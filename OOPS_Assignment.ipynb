{
  "nbformat": 4,
  "nbformat_minor": 0,
  "metadata": {
    "colab": {
      "provenance": []
    },
    "kernelspec": {
      "name": "python3",
      "display_name": "Python 3"
    },
    "language_info": {
      "name": "python"
    }
  },
  "cells": [
    {
      "cell_type": "markdown",
      "source": [
        "#Python OOPs"
      ],
      "metadata": {
        "id": "__Ss6I6buS2o"
      }
    },
    {
      "cell_type": "markdown",
      "source": [
        "1. What is Object-Oriented Programming (OOP) ?\n",
        "- Object-Oriented Programming (OOP) is a programming paradigm that organizes software design around objects, which are instances of classes. It helps in structuring code in a modular and reusable way by encapsulating data (attributes) and behavior (methods) together.\n",
        "\n"
      ],
      "metadata": {
        "id": "XlxBuboMuk3k"
      }
    },
    {
      "cell_type": "markdown",
      "source": [
        "2. What is a class in OOP ?\n",
        "- A class in Object-Oriented Programming (OOP) is a blueprint or template used to create objects. It defines the attributes (variables) and methods (functions) that determine the behavior of the objects created from it. A class provides a structured way to encapsulate data and functionality into a single entity.\n",
        "\n"
      ],
      "metadata": {
        "id": "EBZjROEtulC0"
      }
    },
    {
      "cell_type": "markdown",
      "source": [
        "3. What is an object in OOP ?\n",
        "- Object is a basic unit of Object-Oriented Programming and represents the real-life entities. An Object is an instance of a Class. When a class is defined, no memory is allocated but when it is instantiated (i.e. an object is created) memory is allocated."
      ],
      "metadata": {
        "id": "WOGcblK4ulGS"
      }
    },
    {
      "cell_type": "markdown",
      "source": [
        "4. What is the difference between abstraction and encapsulation ?\n",
        "- Abstraction: Hiding Complexity\n",
        "  - Abstraction is the process of hiding unnecessary details and exposing only essential features of an object or system. It allows developers to focus on high-level functionality without getting lost in the implementation details. Abstraction is achieved through abstract classes and interfaces in Python.\n",
        "  - Abstraction focuses on hiding unnecessary details, emphasizing the essential characteristics of an object or system. It provides a high-level view and simplifies complexity.\n",
        "  - Purpose - Reduces complexity and increases usability.\n",
        "  - Implementation - Achieved using abstract classes and interfaces.\n",
        "\n",
        "- Encapsulation: Data Protection and Hiding\n",
        "  - Encapsulation is the practice of bundling data and methods together within a class, thereby hiding the internal state and implementation details from the outside world. It provides data protection and ensures that the internal state of an object can only be accessed through well-defined methods, known as getters and setters, or properties in Python.\n",
        "  - Encapsulation focuses on bundling data and methods within a class, restricting direct access to the internal state of an object. It ensures data protection and enables controlled access to the object's attributes.\n",
        "  - Purpose - Ensures data security and prevents unauthorized access.\n",
        "  - Implementation - Achieved using private and protected variables with getter and setter methods."
      ],
      "metadata": {
        "id": "fgr2sb57ulJ6"
      }
    },
    {
      "cell_type": "markdown",
      "source": [
        "5. What are dunder methods in Python ?\n",
        "- Python dunder/magic methods are the special predefined methods having two prefixes and two suffix underscores in the method name. Here, the word dunder means double under (underscore). These special dunder methods are used in case of operator overloading ( they provide extended meaning beyond the predefined meaning to an operator)."
      ],
      "metadata": {
        "id": "Z4zhsWO5ulNL"
      }
    },
    {
      "cell_type": "markdown",
      "source": [
        "6. Explain the concept of inheritance in OOP .\n",
        "- Inheritance is a fundamental concept in object-oriented programming (OOP) that allows a class (called a child or derived class) to inherit attributes and methods from another class (called a parent or base class). This promotes code reuse, modularity, and a hierarchical class structure.\n"
      ],
      "metadata": {
        "id": "ecNQ68iwulQL"
      }
    },
    {
      "cell_type": "markdown",
      "source": [
        "7. What is polymorphism in OOP ?\n",
        "- Polymorphism is the ability of any data to be processed in more than one form. The word itself indicates the meaning as poly means many and morphism means types. Polymorphism is one of the most important concepts of object-oriented programming languages.\n"
      ],
      "metadata": {
        "id": "dYqrzxhtulTY"
      }
    },
    {
      "cell_type": "markdown",
      "source": [
        "8. How is encapsulation achieved in Python ?\n",
        "- Encapsulation is one of the core principles of Object-Oriented Programming (OOP) that helps protect data and restricts direct access to it. In Python, encapsulation is achieved using private and protected attributes along with getter and setter methods.\n",
        "- Ways to Achieve Encapsulation in Python >>\n",
        "\n",
        "  - Using Private Attributes  >> Defined with double underscores (__).Cannot be accessed directly from outside the class.\n",
        "  - Using Protected Attributes - Defined with a single underscore (_).\n",
        "Can be accessed, but it’s a convention that it should not be modified directly.\n",
        "  - Using Getter and Setter Methods - Getter methods retrieve private attribute values.Setter methods modify private attributes with validation.\n",
        "  - Using the @property Decorator - A more Pythonic way to define getters and setters. Example >> The price attribute in a Product class can be accessed like a normal attribute while still enforcing validation.\n",
        "\n",
        "\n",
        "\n"
      ],
      "metadata": {
        "id": "vt--fBTLulWa"
      }
    },
    {
      "cell_type": "markdown",
      "source": [
        "9. What is a constructor in Python ?\n",
        "- In Python, a constructor is a special method that is called automatically when an object is created from a class. Its main role is to initialize the object by setting up its attributes or state.\n",
        "- In Python, the constructor method is defined using __init__().\n",
        "\n",
        "\n",
        "\n"
      ],
      "metadata": {
        "id": "EFfDlSCqulZM"
      }
    },
    {
      "cell_type": "markdown",
      "source": [
        "10. What are class and static methods in Python?\n",
        "- Class Method in Python\n",
        "  - Class methods are associated with the class rather than instances. They are defined using the @classmethod decorator and take the class itself as the first parameter, usually named cls. Class methods are useful for tasks that involve the class rather than the instance, such as creating class-specific behaviors or modifying class-level attributes.\n",
        "  - Class Method → @classmethod\n",
        "\n",
        "- Static Method in Python\n",
        "  - Static methods, as the name suggests, are not bound to either the class or its instances. They are defined using the @staticmethod decorator and do not take a reference to the instance or the class as their first parameter. Static methods are essentially regular functions within the class namespace and are useful for tasks that do not depend on instance-specific or class-specific data.\n",
        "  - Static Method → @staticmethod\n",
        "\n"
      ],
      "metadata": {
        "id": "UEDz0q5hulcq"
      }
    },
    {
      "cell_type": "markdown",
      "source": [
        "11. What is method overloading in Python ?\n",
        "- In Python, overloading usually refers to the ability to define a method in multiple ways so that it can be called with different numbers of parameters or types. Python doesn’t support method overloading in the same way as languages like Java or C++, where you can define multiple methods with the same name but different parameters within the same class. However, Python does allow operator overloading, which means you can change the meaning of an operator depending on the operands used."
      ],
      "metadata": {
        "id": "8f80d4Pdulfs"
      }
    },
    {
      "cell_type": "markdown",
      "source": [
        "12. What is method overriding in OOP ?\n",
        "- Method overriding is an ability of any object-oriented programming language that allows a subclass or child class to provide a specific implementation of a method that is already provided by one of its super-classes or parent classes. When a method in a subclass has the same name, the same parameters or signature, and same return type(or sub-type) as a method in its super-class, then the method in the subclass is said to override the method in the super-class."
      ],
      "metadata": {
        "id": "jjG8TsEGuloY"
      }
    },
    {
      "cell_type": "markdown",
      "source": [
        "13. What is a property decorator in Python ?\n",
        "- The @property decorator in Python is used to define a method that can be accessed like an attribute. It is a way to control access to private or protected attributes while maintaining a clean and readable syntax. This helps in implementing encapsulation, ensuring that class attributes are not directly modified but instead go through controlled getter, setter, and deleter methods."
      ],
      "metadata": {
        "id": "S5KxxZukulra"
      }
    },
    {
      "cell_type": "markdown",
      "source": [
        "14. Why is polymorphism important in OOP ?\n",
        "- Polymorphism is a fundamental concept in Object-Oriented Programming (OOP) that allows objects of different classes to be treated as objects of a common superclass. It enables code reusability, flexibility, and scalability, making programs more maintainable and extensible.\n",
        "\n",
        "- polymorphism is important because >>\n",
        "  - Code Reusability - Polymorphism allows a single interface to be used for different types of objects.This reduces code duplication because the same method name can perform different tasks depending on the object type.\n",
        "  - Flexibility & Extensibility - Polymorphism allows programs to be more flexible and scalable.\n",
        "  - Reduces Complexity & Enhances Readability - Instead of writing multiple function names for similar actions (bark(), meow(), moo()), polymorphism allows a single method name (speak()) that works across different objects.\n",
        "  - Supports Dynamic Method Resolution (Runtime Polymorphism) - Polymorphism enables method overriding, where a subclass provides a specific implementation of a method defined in its parent class.The method that gets executed is determined at runtime, making programs more dynamic.\n",
        "  - Enables Interface-Based Programming - Polymorphism allows interface-based design, where different classes implement the same interface.This is widely used in frameworks and APIs.\n",
        "  "
      ],
      "metadata": {
        "id": "ZY0dGTDUuluf"
      }
    },
    {
      "cell_type": "markdown",
      "source": [
        "15. What is an abstract class in Python ?\n",
        "- An abstract class in Python is a class that cannot be instantiated directly. Instead, it serves as a blueprint for other classes. It allows you to define methods that must be implemented by subclasses, while still providing the structure and behavior common to all subclasses. The primary purpose of an abstract class is to define common functionality while ensuring that certain methods are implemented in derived classes."
      ],
      "metadata": {
        "id": "gE6zSRI_ulxi"
      }
    },
    {
      "cell_type": "markdown",
      "source": [
        "16. What are the advantages of OOP ?\n",
        "- Advantages of OOP\n",
        "  - Offers Security - Many developers use OOP because it ensures minimal exposure using encapsulation. In this method, developers bundle data to encapsulate information inside an object. It makes the code secure and free of unintended data corruption. This makes it one of the key benefits of object-oriented programming.\n",
        "  - Improves Collaboration - One of the top advantages of OOP is that it allows developers to divide a complex software system into small, manageable objects. Each object is responsible for a specific function. They can develop, test, and maintain these self-contained units independently. Therefore, it helps in organizing code and streamlining collaboration when necessary.\n",
        "  - Allows Reuse of Code - The concept of inheritance allows OOP to promote the reuse of code. A developer can create new classes based on existing ones. It reduces code duplication and saves development time significantly. That’s because, in OOP, a developer does not have to write the same code multiple times. In essence, it creates enough space for thorough data analysis.\n",
        "  - Flexibility and Maintainability (Polymorphism)- Polymorphism allows for methods and objects to have different behaviors based on their actual types. This enables you to write more flexible code that can handle different types of objects in a uniform way.\n",
        "  - Easier Debugging and Testing - Because OOP organizes the program into self-contained objects, debugging and testing become easier. Each object can be tested independently, and bugs can be isolated more effectively.\n",
        "  - Data Abstraction - Abstraction hides the complexity of the system by exposing only the essential details to the user. In OOP, this is achieved using abstract classes, interfaces, or getter/setter methods.\n",
        "  - Modularity - In OOP, the code is organized into smaller, independent objects that can be developed, tested, and maintained separately. This modular approach makes it easier to manage complex systems and focus on one part at a time."
      ],
      "metadata": {
        "id": "5hDd3JGLul0m"
      }
    },
    {
      "cell_type": "markdown",
      "source": [
        "17. What is the difference between a class variable and an instance variable ?\n",
        "- Class Variable:\n",
        "Class variables can be modified by the class itself or any instance. However, modifying the class variable using an instance will not create a new instance variable. It will affect all instances of the class.\n",
        "- Instance Variable:\n",
        "Instance variables can be modified using the instance. Each instance can have its own value for an instance variable, and changing one instance’s variable will not affect others."
      ],
      "metadata": {
        "id": "_jgvgVwpul4C"
      }
    },
    {
      "cell_type": "markdown",
      "source": [
        "18. What is multiple inheritance in Python ?\n",
        "- Multiple inheritance in Python allows a class to inherit from more than one parent class, enabling greater flexibility and code reuse. However, it also introduces complexity, especially when multiple parent classes have overlapping methods. Python handles the complexity through MRO and C3 Linearization, making it easier to manage inheritance in most cases. When used correctly, multiple inheritance can lead to cleaner, more modular code, but it’s important to be cautious of potential issues like the Diamond Problem."
      ],
      "metadata": {
        "id": "s3yxgdIgul59"
      }
    },
    {
      "cell_type": "markdown",
      "source": [
        "19. Explain the purpose of ‘’__str__’ and ‘__repr__’ ‘ methods in Python ?\n",
        "-  __str__ Method -\n",
        "  - The __str__ method is used to define the human-readable string representation of an object. When you call str() on an object or print it, Python automatically calls the __str__ method to convert the object into a string that is easy to understand for users.\n",
        "  - Purpose of __str__ >>\n",
        "  - To provide a user-friendly string representation of the object.\n",
        "  - It is designed to return a string that makes sense when displayed to end users.\n",
        "\n",
        "-  __repr__ Method -\n",
        "   - The __repr__ method is used to define the official string representation of an object, which is meant to be unambiguous and ideally should allow the object to be recreated using eval() (if possible). This string is generally intended for developers or debugging, not for end users.\n",
        "   - Purpose of __repr__ >>\n",
        "  -  To provide a developer-friendly string representation of an object.\n",
        "  - It should be detailed and unambiguous, so that if you print or log an object, you can understand its state clearly.\n",
        " - If possible, the string returned by __repr__ should be a valid Python expression that could recreate the object.\n",
        ""
      ],
      "metadata": {
        "id": "quN554aNul8v"
      }
    },
    {
      "cell_type": "markdown",
      "source": [
        "20. What is the significance of the ‘super()’function in Python ?\n",
        "- In Python, super() is a built-in function that allows access to methods and properties of a parent or superclass from a child or subclass. This is useful when working with inheritance in object-oriented programming. It enables a subclass to inherit behaviour and attributes from its parent class while also providing the flexibility to override or extend that behaviour in the subclass.\n",
        ""
      ],
      "metadata": {
        "id": "XdOHi2OGumAA"
      }
    },
    {
      "cell_type": "markdown",
      "source": [
        "21. What is the significance of the __del__ method in Python ?\n",
        "- The __del__ method is a special method in Python that is called when an object is about to be destroyed. It allows you to define specific cleanup actions that should be taken when an object is garbage collected. This method can be particularly useful for releasing external resources such as file handles, network connections, or database connections that the object may hold.\n",
        "- Purpose - The __del__ method is used to define the actions that should be performed before an object is destroyed. This can include releasing external resources such as files or database connections associated with the object.\n",
        "- Usage - When Python's garbage collector identifies that an object is no longer referenced by any part of the program, it schedules the __del__ method of that object to be called before reclaiming its memory."
      ],
      "metadata": {
        "id": "fYYsr8Wb_7Xh"
      }
    },
    {
      "cell_type": "markdown",
      "source": [
        "22. What is the difference between @staticmethod and @classmethod in Python ?\n",
        "- @staticmethod >>\n",
        "   - A static method does not receive an implicit first argument. A static method is also a method that is bound to the class and not the object of the class. This method can’t access or modify the class state. It is present in a class because it makes sense for the method to be present in class.\n",
        "- @classmethod >>\n",
        "   - The @classmethod decorator is a built-in function decorator that is an expression that gets evaluated after your function is defined. The result of that evaluation shadows your function definition. A class method receives the class as an implicit first argument, just like an instance method receives the instance.\n",
        "\n",
        "- Difference  between @staticmethod and @classmethod >>\n",
        "  - A class method takes cls as the first parameter while a static method needs no specific parameters.\n",
        "  - A class method can access or modify the class state while a static method can’t access or modify it.\n",
        "  - In general, static methods know nothing about the class state. They are utility-type methods that take some parameters and work upon those parameters. On the other hand class methods must have class as a parameter.\n",
        "  - We use @classmethod decorator in python to create a class method and we use @staticmethod decorator to create a static method in python."
      ],
      "metadata": {
        "id": "06MJ91U9_7ld"
      }
    },
    {
      "cell_type": "markdown",
      "source": [
        "23.  How does polymorphism work in Python with inheritance ?\n",
        "- Polymorphism is one of the core principles of Object-Oriented Programming (OOP), and it refers to the ability of different objects to respond to the same method in different ways. It allows a single method, function, or operator to operate on objects of different types. This makes code more flexible and extensible.\n",
        "\n",
        "- In Python, polymorphism is commonly used in the context of inheritance. When a child class inherits from a parent class, it can override methods of the parent class. This is where polymorphism comes into play — the method defined in the child class has the same name as the one in the parent class, but it behaves differently based on the object (class) invoking it.\n",
        "\n",
        "- How Polymorphism Works with Inheritance in Python >>\n",
        "\n",
        "  - Method Overriding-In inheritance, method overriding is a key concept for achieving polymorphism. A child class can define its own version of a method that it inherits from the parent class.\n",
        "  - When a method is called on an object, Python will first check if the method exists in the object’s class. If not, it will check the parent classes (if any). The method resolution order (MRO) helps Python determine the right method to call.\n",
        "\n",
        "  - Dynamic Method Resolution - Polymorphism in Python is dynamic (also called \"late binding\"), which means the method that gets called depends on the type of the object (instance) at runtime, not at compile time.\n",
        "  - Same Method Name, Different Behavior - By using polymorphism, you can define the same method name in multiple classes, but each class can have a different implementation (behavior) of that method.\n"
      ],
      "metadata": {
        "id": "2vBaS3U5_7wo"
      }
    },
    {
      "cell_type": "markdown",
      "source": [
        "24. What is method chaining in Python OOP ?\n",
        "- Method chaining in Python allows multiple method calls to be combined in a single statement, making code more concise, readable, and expressive. By ensuring that methods return the object itself (self), Python supports fluent interfaces and enables developers to write cleaner, more maintainable code. However, it is essential to ensure that each method involved in the chain returns self for the chaining to work correctly. This technique is commonly used for setting attributes, performing configurations, and working with objects in a fluid, intuitive manner."
      ],
      "metadata": {
        "id": "O-q_5rFK_80K"
      }
    },
    {
      "cell_type": "markdown",
      "source": [
        "25. What is the purpose of the __call__ method in Python ?\n",
        "- In Python, the __call__ method is a special method (also known as a magic method or dunder method) that allows an instance of a class to be called like a function. When you define the __call__ method in a class, objects of that class can be called as if they were functions, enabling a more flexible and dynamic behavior.\n",
        "\n",
        "- In essence, the __call__ method turns an object into a callable object, which means you can use the object in the same way you would use a function or method."
      ],
      "metadata": {
        "id": "jXYmZG4f_-JK"
      }
    },
    {
      "cell_type": "markdown",
      "source": [
        "# Practicle Questions"
      ],
      "metadata": {
        "id": "CoxL0btgIAPv"
      }
    },
    {
      "cell_type": "code",
      "source": [
        "#1 Create a parent class Animal with a method speak() that prints a generic message. Create a child class Dog that overrides the speak() method to print \"Bark!.\n",
        "# Parent Class (Animal)\n",
        "class Animal:\n",
        "    def speak(self):\n",
        "        print(\"Animal makes a sound\")\n",
        "\n",
        "# Child Class (Dog)\n",
        "class Dog(Animal):\n",
        "    def speak(self):\n",
        "        print(\"Bark!\")\n",
        "\n",
        "# Create an instance of Animal and Dog\n",
        "animal = Animal()\n",
        "dog = Dog()\n",
        "\n",
        "# Call the speak method for both objects\n",
        "animal.speak()  # Output: Animal makes a sound\n",
        "dog.speak()     # Output: Bark!\n"
      ],
      "metadata": {
        "colab": {
          "base_uri": "https://localhost:8080/"
        },
        "id": "NaQipu7bIFqH",
        "outputId": "d807e80f-e473-47d2-96ba-96b4472944d2"
      },
      "execution_count": 1,
      "outputs": [
        {
          "output_type": "stream",
          "name": "stdout",
          "text": [
            "Animal makes a sound\n",
            "Bark!\n"
          ]
        }
      ]
    },
    {
      "cell_type": "code",
      "source": [
        "#2 Write a program to create an abstract class Shape with a method area(). Derive classes Circle and Rectangle from it and implement the area() method in both.\n",
        "from abc import ABC, abstractmethod\n",
        "import math\n",
        "\n",
        "# Abstract Base Class (Shape)\n",
        "class Shape(ABC):\n",
        "    @abstractmethod\n",
        "    def area(self):\n",
        "        pass\n",
        "\n",
        "# Derived Class (Circle)\n",
        "class Circle(Shape):\n",
        "    def __init__(self, radius):\n",
        "        self.radius = radius\n",
        "\n",
        "    def area(self):\n",
        "        return math.pi * (self.radius ** 2)\n",
        "\n",
        "# Derived Class (Rectangle)\n",
        "class Rectangle(Shape):\n",
        "    def __init__(self, length, width):\n",
        "        self.length = length\n",
        "        self.width = width\n",
        "\n",
        "    def area(self):\n",
        "        return self.length * self.width\n",
        "\n",
        "# Create instances of Circle and Rectangle\n",
        "circle = Circle(5)\n",
        "rectangle = Rectangle(4, 6)\n",
        "\n",
        "# Print areas of both shapes\n",
        "print(f\"Area of the circle: {circle.area()}\")       # Output: Area of the circle: 78.53981633974483\n",
        "print(f\"Area of the rectangle: {rectangle.area()}\") # Output: Area of the rectangle: 24\n",
        "\n",
        "\n"
      ],
      "metadata": {
        "colab": {
          "base_uri": "https://localhost:8080/"
        },
        "id": "5iRxUyV5IF9o",
        "outputId": "c1bfd275-c292-4037-fe03-9d1a6a062651"
      },
      "execution_count": 2,
      "outputs": [
        {
          "output_type": "stream",
          "name": "stdout",
          "text": [
            "Area of the circle: 78.53981633974483\n",
            "Area of the rectangle: 24\n"
          ]
        }
      ]
    },
    {
      "cell_type": "code",
      "source": [
        "#3&4 Implement a multi-level inheritance scenario where a class Vehicle has an attribute type. Derive a class Car and further derive a class ElectricCar that adds a battery attribute.\n",
        "# Base Class (Vehicle)\n",
        "class Vehicle:\n",
        "    def __init__(self, vehicle_type):\n",
        "        self.vehicle_type = vehicle_type\n",
        "\n",
        "    def display_type(self):\n",
        "        print(f\"This is a {self.vehicle_type}.\")\n",
        "\n",
        "# Derived Class (Car) from Vehicle\n",
        "class Car(Vehicle):\n",
        "    def __init__(self, vehicle_type, model):\n",
        "        # Call the constructor of the base class (Vehicle)\n",
        "        super().__init__(vehicle_type)\n",
        "        self.model = model\n",
        "\n",
        "    def display_model(self):\n",
        "        print(f\"This is a {self.model} car.\")\n",
        "\n",
        "# Further Derived Class (ElectricCar) from Car\n",
        "class ElectricCar(Car):\n",
        "    def __init__(self, vehicle_type, model, battery_capacity):\n",
        "        # Call the constructor of the parent class (Car)\n",
        "        super().__init__(vehicle_type, model)\n",
        "        self.battery_capacity = battery_capacity\n",
        "\n",
        "    def display_battery(self):\n",
        "        print(f\"This electric car has a battery capacity of {self.battery_capacity} kWh.\")\n",
        "\n",
        "# Creating an instance of ElectricCar\n",
        "electric_car = ElectricCar(\"Electric Vehicle\", \"Tesla Model S\", 100)\n",
        "\n",
        "# Displaying attributes\n",
        "electric_car.display_type()        # Output: This is a Electric Vehicle.\n",
        "electric_car.display_model()       # Output: This is a Tesla Model S car.\n",
        "electric_car.display_battery()     # Output: This electric car has a battery capacity of 100 kWh.\n",
        "\n",
        "\n"
      ],
      "metadata": {
        "colab": {
          "base_uri": "https://localhost:8080/"
        },
        "id": "uRVVpxSsIGAq",
        "outputId": "7b5c8c46-aa85-4944-8de2-2ebda84f5dc3"
      },
      "execution_count": 3,
      "outputs": [
        {
          "output_type": "stream",
          "name": "stdout",
          "text": [
            "This is a Electric Vehicle.\n",
            "This is a Tesla Model S car.\n",
            "This electric car has a battery capacity of 100 kWh.\n"
          ]
        }
      ]
    },
    {
      "cell_type": "code",
      "source": [
        "#5 Write a program to demonstrate encapsulation by creating a class BankAccount with private attributes balance and methods to deposit, withdraw, and check balance.\n",
        "class BankAccount:\n",
        "    def __init__(self, initial_balance=0):\n",
        "        # Private attribute\n",
        "        self.__balance = initial_balance\n",
        "\n",
        "    # Method to deposit money into the account\n",
        "    def deposit(self, amount):\n",
        "        if amount > 0:\n",
        "            self.__balance += amount\n",
        "            print(f\"Deposited ₹{amount}. Current balance: ₹{self.__balance}\")\n",
        "        else:\n",
        "            print(\"Deposit amount must be positive.\")\n",
        "\n",
        "    # Method to withdraw money from the account\n",
        "    def withdraw(self, amount):\n",
        "        if amount > 0:\n",
        "            if amount <= self.__balance:\n",
        "                self.__balance -= amount\n",
        "                print(f\"Withdrew ₹{amount}. Current balance: ₹{self.__balance}\")\n",
        "            else:\n",
        "                print(\"Insufficient balance.\")\n",
        "        else:\n",
        "            print(\"Withdrawal amount must be positive.\")\n",
        "\n",
        "    # Method to check the balance\n",
        "    def check_balance(self):\n",
        "        print(f\"Current balance: ₹{self.__balance}\")\n",
        "\n",
        "# Create a BankAccount instance\n",
        "account = BankAccount(5000)\n",
        "\n",
        "# Checking balance initially\n",
        "account.check_balance()  # Output: Current balance: ₹5000\n",
        "\n",
        "# Depositing money\n",
        "account.deposit(500)  # Output: Deposited ₹500. Current balance: ₹5500\n",
        "\n",
        "# Withdrawing money\n",
        "account.withdraw(300)  # Output: Withdrew ₹300. Current balance: ₹5200\n",
        "\n",
        "# Attempting an invalid withdrawal (greater than balance)\n",
        "account.withdraw(8000)  # Output: Insufficient balance.\n",
        "\n",
        "# Checking balance after transactions\n",
        "account.check_balance()  # Output: Current balance: ₹5200\n",
        "\n"
      ],
      "metadata": {
        "colab": {
          "base_uri": "https://localhost:8080/"
        },
        "id": "IcJDjFiCIGEg",
        "outputId": "0dee50ab-a942-4f0a-a801-8b608e97f290"
      },
      "execution_count": 6,
      "outputs": [
        {
          "output_type": "stream",
          "name": "stdout",
          "text": [
            "Current balance: ₹5000\n",
            "Deposited ₹500. Current balance: ₹5500\n",
            "Withdrew ₹300. Current balance: ₹5200\n",
            "Insufficient balance.\n",
            "Current balance: ₹5200\n"
          ]
        }
      ]
    },
    {
      "cell_type": "code",
      "source": [
        "#6 Demonstrate runtime polymorphism using a method play() in a base class Instrument. Derive classes Guitar and Piano that implement their own version of play().\n",
        "# Base Class (Instrument)\n",
        "class Instrument:\n",
        "    def play(self):\n",
        "        print(\"Playing an instrument.\")\n",
        "\n",
        "# Derived Class (Guitar) from Instrument\n",
        "class Guitar(Instrument):\n",
        "    def play(self):\n",
        "        print(\"Playing the guitar.\")\n",
        "\n",
        "# Derived Class (Piano) from Instrument\n",
        "class Piano(Instrument):\n",
        "    def play(self):\n",
        "        print(\"Playing the piano.\")\n",
        "\n",
        "# Demonstrating runtime polymorphism\n",
        "def demonstrate_play(instrument):\n",
        "    instrument.play()  # The appropriate play method is called based on the object type\n",
        "\n",
        "# Create instances of Guitar and Piano\n",
        "guitar = Guitar()\n",
        "piano = Piano()\n",
        "\n",
        "# Pass the instances to the demonstrate_play function\n",
        "demonstrate_play(guitar)  # Output: Playing the guitar.\n",
        "demonstrate_play(piano)   # Output: Playing the piano.\n",
        "\n"
      ],
      "metadata": {
        "colab": {
          "base_uri": "https://localhost:8080/"
        },
        "id": "gVQ4Zj8TIGHx",
        "outputId": "119fc6a7-5e32-4a91-88bb-683e35b8e7d1"
      },
      "execution_count": 7,
      "outputs": [
        {
          "output_type": "stream",
          "name": "stdout",
          "text": [
            "Playing the guitar.\n",
            "Playing the piano.\n"
          ]
        }
      ]
    },
    {
      "cell_type": "code",
      "source": [
        "#7 Create a class MathOperations with a class method add_numbers() to add two numbers and a static method subtract_numbers() to subtract two numbers.\n",
        "class MathOperations:\n",
        "    # Class method to add two numbers\n",
        "    @classmethod\n",
        "    def add_numbers(cls, num1, num2):\n",
        "        return num1 + num2\n",
        "\n",
        "    # Static method to subtract two numbers\n",
        "    @staticmethod\n",
        "    def subtract_numbers(num1, num2):\n",
        "        return num1 - num2\n",
        "\n",
        "# Demonstrating the usage of class and static methods\n",
        "# Using the class method to add numbers\n",
        "sum_result = MathOperations.add_numbers(7, 5)\n",
        "print(f\"Sum: {sum_result}\")  # Output: Sum: 12\n",
        "\n",
        "# Using the static method to subtract numbers\n",
        "difference_result = MathOperations.subtract_numbers(10, 5)\n",
        "print(f\"Difference: {difference_result}\")  # Output: Difference: 5\n",
        "\n"
      ],
      "metadata": {
        "colab": {
          "base_uri": "https://localhost:8080/"
        },
        "id": "II7ihxfbIGJ7",
        "outputId": "03443191-cfed-428d-cf38-9e4bb4df4aac"
      },
      "execution_count": 8,
      "outputs": [
        {
          "output_type": "stream",
          "name": "stdout",
          "text": [
            "Sum: 12\n",
            "Difference: 5\n"
          ]
        }
      ]
    },
    {
      "cell_type": "code",
      "source": [
        "#8 Implement a class Person with a class method to count the total number of persons created.\n",
        "class Person:\n",
        "    # Class-level attribute to keep track of the number of persons created\n",
        "    total_persons = 0\n",
        "\n",
        "    def __init__(self, name, age):\n",
        "        # Instance attributes\n",
        "        self.name = name\n",
        "        self.age = age\n",
        "        # Increment the total count every time a new object is created\n",
        "        Person.total_persons += 1\n",
        "\n",
        "    # Class method to return the total number of persons created\n",
        "    @classmethod\n",
        "    def get_total_persons(cls):\n",
        "        return cls.total_persons\n",
        "\n",
        "# Creating instances of the Person class\n",
        "person1 = Person(\"Parvez\", 24)\n",
        "person2 = Person(\"Hasan\", 26)\n",
        "person3 = Person(\"Syed\", 20)\n",
        "\n",
        "# Using the class method to get the total number of persons created\n",
        "total_count = Person.get_total_persons()\n",
        "print(f\"Total persons created: {total_count}\")  # Output: Total persons created: 3\n",
        "\n"
      ],
      "metadata": {
        "colab": {
          "base_uri": "https://localhost:8080/"
        },
        "id": "Sxhv5oQdIGNU",
        "outputId": "3e5934e2-80ff-4466-e679-ea5780bda19b"
      },
      "execution_count": 9,
      "outputs": [
        {
          "output_type": "stream",
          "name": "stdout",
          "text": [
            "Total persons created: 3\n"
          ]
        }
      ]
    },
    {
      "cell_type": "code",
      "source": [
        "#9 Write a class Fraction with attributes numerator and denominator. Override the str method to display the fraction as \"numerator/denominator\".\n",
        "class Fraction:\n",
        "    def __init__(self, numerator, denominator):\n",
        "        # Instance attributes for numerator and denominator\n",
        "        self.numerator = numerator\n",
        "        self.denominator = denominator\n",
        "\n",
        "    # Override the __str__ method to return the fraction as a string in \"numerator/denominator\" format\n",
        "    def __str__(self):\n",
        "        return f\"{self.numerator}/{self.denominator}\"\n",
        "\n",
        "# Create instances of the Fraction class\n",
        "fraction1 = Fraction(3, 4)\n",
        "fraction2 = Fraction(5, 8)\n",
        "\n",
        "# Printing the fraction objects will automatically call the __str__ method\n",
        "print(fraction1)  # Output: 3/4\n",
        "print(fraction2)  # Output: 5/8\n",
        "\n"
      ],
      "metadata": {
        "colab": {
          "base_uri": "https://localhost:8080/"
        },
        "id": "eyNThFtDIGPk",
        "outputId": "039db8cb-e8e0-488a-e537-312ac2ce79d9"
      },
      "execution_count": 10,
      "outputs": [
        {
          "output_type": "stream",
          "name": "stdout",
          "text": [
            "3/4\n",
            "5/8\n"
          ]
        }
      ]
    },
    {
      "cell_type": "code",
      "source": [
        "#10 Demonstrate operator overloading by creating a class Vector and overriding the add method to add two vectors.\n",
        "class Vector:\n",
        "    def __init__(self, x, y):\n",
        "        # Instance attributes for the x and y components of the vector\n",
        "        self.x = x\n",
        "        self.y = y\n",
        "\n",
        "    # Overload the + operator to add two vectors\n",
        "    def __add__(self, other):\n",
        "        # Adding corresponding components of the two vectors\n",
        "        return Vector(self.x + other.x, self.y + other.y)\n",
        "\n",
        "    # Override the __str__ method to display the vector as \"(x, y)\"\n",
        "    def __str__(self):\n",
        "        return f\"({self.x}, {self.y})\"\n",
        "\n",
        "# Create two Vector objects\n",
        "vector1 = Vector(3, 4)\n",
        "vector2 = Vector(1, 2)\n",
        "\n",
        "# Adding two vectors using the overloaded + operator\n",
        "result_vector = vector1 + vector2\n",
        "\n",
        "# Print the result of the addition\n",
        "print(f\"Vector 1: {vector1}\")  # Output: Vector 1: (3, 4)\n",
        "print(f\"Vector 2: {vector2}\")  # Output: Vector 2: (1, 2)\n",
        "print(f\"Result of Addition: {result_vector}\")  # Output: Result of Addition: (4, 6)\n",
        "\n"
      ],
      "metadata": {
        "colab": {
          "base_uri": "https://localhost:8080/"
        },
        "id": "l3_YWdd7IGRo",
        "outputId": "a2078ba2-71fb-44ba-cfb4-1ca4716dc209"
      },
      "execution_count": 11,
      "outputs": [
        {
          "output_type": "stream",
          "name": "stdout",
          "text": [
            "Vector 1: (3, 4)\n",
            "Vector 2: (1, 2)\n",
            "Result of Addition: (4, 6)\n"
          ]
        }
      ]
    },
    {
      "cell_type": "code",
      "source": [
        "#11 Create a class Person with attributes name and age. Add a method greet() that prints \"Hello, my name is {name} and I am {age} years old.\"\n",
        "class Person:\n",
        "    def __init__(self, name, age):\n",
        "        # Instance attributes\n",
        "        self.name = name\n",
        "        self.age = age\n",
        "\n",
        "    # Method to greet with name and age\n",
        "    def greet(self):\n",
        "        print(f\"Hello, my name is {self.name} and I am {self.age} years old.\")\n",
        "\n",
        "# Creating an instance of the Person class\n",
        "person1 = Person(\"Parvez\", 24)\n",
        "\n",
        "# Calling the greet method to display the greeting message\n",
        "person1.greet()\n",
        "\n"
      ],
      "metadata": {
        "colab": {
          "base_uri": "https://localhost:8080/"
        },
        "id": "XNmUTOagIGT-",
        "outputId": "91e81c07-95b2-4b6c-d00a-84c0012f768f"
      },
      "execution_count": 12,
      "outputs": [
        {
          "output_type": "stream",
          "name": "stdout",
          "text": [
            "Hello, my name is Parvez and I am 24 years old.\n"
          ]
        }
      ]
    },
    {
      "cell_type": "code",
      "source": [
        "#12 Implement a class Student with attributes name and grades. Create a method average_grade() to compute the average of the grades.\n",
        "class Student:\n",
        "    def __init__(self, name, grades):\n",
        "        # Instance attributes: name and grades\n",
        "        self.name = name\n",
        "        self.grades = grades  # grades is a list of numbers\n",
        "\n",
        "    # Method to compute the average of the grades\n",
        "    def average_grade(self):\n",
        "        if len(self.grades) == 0:\n",
        "            return 0  # Avoid division by zero if no grades are provided\n",
        "        return sum(self.grades) / len(self.grades)\n",
        "\n",
        "# Creating an instance of the Student class\n",
        "student1 = Student(\"Parvez\", [91, 90, 97, 92, 96])\n",
        "\n",
        "# Calling the average_grade method to compute the average of grades\n",
        "average = student1.average_grade()\n",
        "print(f\"{student1.name}'s average grade is: {average:.2f}\")\n",
        "\n"
      ],
      "metadata": {
        "colab": {
          "base_uri": "https://localhost:8080/"
        },
        "id": "jnFQLASLIGW2",
        "outputId": "85547992-dfc6-4160-d302-bfba2f5f9c97"
      },
      "execution_count": 14,
      "outputs": [
        {
          "output_type": "stream",
          "name": "stdout",
          "text": [
            "Parvez's average grade is: 93.20\n"
          ]
        }
      ]
    },
    {
      "cell_type": "code",
      "source": [
        "#13 Create a class Rectangle with methods set_dimensions() to set the dimensions and area() to calculate the area.\n",
        "class Rectangle:\n",
        "    def __init__(self):\n",
        "        # Initialize the dimensions of the rectangle\n",
        "        self.length = 0\n",
        "        self.width = 0\n",
        "\n",
        "    # Method to set the dimensions of the rectangle\n",
        "    def set_dimensions(self, length, width):\n",
        "        self.length = length\n",
        "        self.width = width\n",
        "\n",
        "    # Method to calculate the area of the rectangle\n",
        "    def area(self):\n",
        "        return self.length * self.width\n",
        "\n",
        "# Creating an instance of the Rectangle class\n",
        "rectangle1 = Rectangle()\n",
        "\n",
        "# Setting the dimensions of the rectangle\n",
        "rectangle1.set_dimensions(5, 3)\n",
        "\n",
        "# Calculating and printing the area of the rectangle\n",
        "area = rectangle1.area()\n",
        "print(f\"The area of the rectangle is: {area}\")\n",
        "\n"
      ],
      "metadata": {
        "colab": {
          "base_uri": "https://localhost:8080/"
        },
        "id": "pytbbQXQIGZ0",
        "outputId": "716f119d-b59f-48aa-a4cf-c6a51004f9a5"
      },
      "execution_count": 15,
      "outputs": [
        {
          "output_type": "stream",
          "name": "stdout",
          "text": [
            "The area of the rectangle is: 15\n"
          ]
        }
      ]
    },
    {
      "cell_type": "code",
      "source": [
        "#14 Create a class Employee with a method calculate_salary() that computes the salary based on hours worked and hourly rate. Create a derived class Manager that adds a bonus to the salary.\n",
        "class Employee:\n",
        "    def __init__(self, name, hours_worked, hourly_rate):\n",
        "        # Instance attributes\n",
        "        self.name = name\n",
        "        self.hours_worked = hours_worked\n",
        "        self.hourly_rate = hourly_rate\n",
        "\n",
        "    # Method to calculate the salary\n",
        "    def calculate_salary(self):\n",
        "        return self.hours_worked * self.hourly_rate\n",
        "\n",
        "class Manager(Employee):\n",
        "    def __init__(self, name, hours_worked, hourly_rate, bonus):\n",
        "        # Initialize the attributes of Employee class using super()\n",
        "        super().__init__(name, hours_worked, hourly_rate)\n",
        "        # Additional attribute for Manager class\n",
        "        self.bonus = bonus\n",
        "\n",
        "    # Override calculate_salary to include the bonus\n",
        "    def calculate_salary(self):\n",
        "        base_salary = super().calculate_salary()  # Get the base salary from Employee class\n",
        "        return base_salary + self.bonus\n",
        "\n",
        "# Creating an instance of the Employee class\n",
        "employee1 = Employee(\"Parvez\", 40, 25)\n",
        "\n",
        "# Creating an instance of the Manager class\n",
        "manager1 = Manager(\"Hasan\", 40, 30, 500)\n",
        "\n",
        "# Calculating and printing the salary for Employee and Manager\n",
        "employee_salary = employee1.calculate_salary()\n",
        "manager_salary = manager1.calculate_salary()\n",
        "\n",
        "print(f\"{employee1.name}'s salary is: ${employee_salary}\")\n",
        "print(f\"{manager1.name}'s salary is: ${manager_salary}\")\n"
      ],
      "metadata": {
        "colab": {
          "base_uri": "https://localhost:8080/"
        },
        "id": "oDfpmTo8IGc3",
        "outputId": "b8b04068-bfb9-4a53-eaa9-dc2cfcd75fa6"
      },
      "execution_count": 16,
      "outputs": [
        {
          "output_type": "stream",
          "name": "stdout",
          "text": [
            "Parvez's salary is: $1000\n",
            "Hasan's salary is: $1700\n"
          ]
        }
      ]
    },
    {
      "cell_type": "code",
      "source": [
        "#15 Create a class Product with attributes name, price, and quantity. Implement a method total_price() that calculates the total price of the product.\n",
        "class Product:\n",
        "    def __init__(self, name, price, quantity):\n",
        "        # Instance attributes for product name, price, and quantity\n",
        "        self.name = name\n",
        "        self.price = price\n",
        "        self.quantity = quantity\n",
        "\n",
        "    # Method to calculate the total price of the product\n",
        "    def total_price(self):\n",
        "        return self.price * self.quantity\n",
        "\n",
        "# Creating an instance of the Product class\n",
        "product1 = Product(\"Laptop\", 5000, 3)\n",
        "product2 = Product(\"Phone\", 1000, 5)\n",
        "\n",
        "# Calculating and printing the total price for each product\n",
        "total_price_product1 = product1.total_price()\n",
        "total_price_product2 = product2.total_price()\n",
        "\n",
        "print(f\"The total price for {product1.name} is: ₹{total_price_product1}\")\n",
        "print(f\"The total price for {product2.name} is: ₹{total_price_product2}\")\n",
        "\n"
      ],
      "metadata": {
        "colab": {
          "base_uri": "https://localhost:8080/"
        },
        "id": "ytt-T7gYIGfn",
        "outputId": "94ff1caa-22e2-40ef-9543-4c2d28a156f7"
      },
      "execution_count": 18,
      "outputs": [
        {
          "output_type": "stream",
          "name": "stdout",
          "text": [
            "The total price for Laptop is: ₹15000\n",
            "The total price for Phone is: ₹5000\n"
          ]
        }
      ]
    },
    {
      "cell_type": "code",
      "source": [
        "#16 Create a class Animal with an abstract method sound(). Create two derived classes Cow and Sheep that implement the sound() method.\n",
        "from abc import ABC, abstractmethod\n",
        "\n",
        "# Abstract class Animal\n",
        "class Animal(ABC):\n",
        "    @abstractmethod\n",
        "    def sound(self):\n",
        "        pass  # Abstract method that must be implemented by subclasses\n",
        "\n",
        "# Derived class Cow\n",
        "class Cow(Animal):\n",
        "    def sound(self):\n",
        "        print(\"Moo\")\n",
        "\n",
        "# Derived class Sheep\n",
        "class Sheep(Animal):\n",
        "    def sound(self):\n",
        "        print(\"Baa\")\n",
        "\n",
        "# Creating instances of Cow and Sheep\n",
        "cow = Cow()\n",
        "sheep = Sheep()\n",
        "\n",
        "# Calling the sound() method for both animals\n",
        "cow.sound()\n",
        "sheep.sound()\n",
        "\n"
      ],
      "metadata": {
        "colab": {
          "base_uri": "https://localhost:8080/"
        },
        "id": "asyDvndBIGi5",
        "outputId": "9dd4c889-2e7d-4a4f-c9d4-87b5fc4e4dbe"
      },
      "execution_count": 19,
      "outputs": [
        {
          "output_type": "stream",
          "name": "stdout",
          "text": [
            "Moo\n",
            "Baa\n"
          ]
        }
      ]
    },
    {
      "cell_type": "code",
      "source": [
        "#17 Create a class Book with attributes title, author, and year_published. Add a method get_book_info() that returns a formatted string with the book's details.\n",
        "class Book:\n",
        "    def __init__(self, title, author, year_published):\n",
        "        # Instance attributes for book details\n",
        "        self.title = title\n",
        "        self.author = author\n",
        "        self.year_published = year_published\n",
        "\n",
        "    # Method to return formatted string with the book's details\n",
        "    def get_book_info(self):\n",
        "        return f\"'{self.title}' by {self.author}, published in {self.year_published}\"\n",
        "\n",
        "# Creating an instance of the Book class\n",
        "book1 = Book(\"The God of Small Things\", \"Arundhati Roy\", 1997)\n",
        "book2 = Book(\"Train to Pakistan\", \"Khushwant Singh\", 1956)\n",
        "\n",
        "\n",
        "# Getting and printing the book information\n",
        "book_info1 = book1.get_book_info()\n",
        "book_info2 = book2.get_book_info()\n",
        "\n",
        "print(book_info1)\n",
        "print(book_info2)\n",
        "\n",
        "\n"
      ],
      "metadata": {
        "colab": {
          "base_uri": "https://localhost:8080/"
        },
        "id": "0i8lmA6uIGm0",
        "outputId": "1b24549a-12b6-4931-f050-bb55ed8860aa"
      },
      "execution_count": 20,
      "outputs": [
        {
          "output_type": "stream",
          "name": "stdout",
          "text": [
            "'The God of Small Things' by Arundhati Roy, published in 1997\n",
            "'Train to Pakistan' by Khushwant Singh, published in 1956\n"
          ]
        }
      ]
    },
    {
      "cell_type": "code",
      "source": [
        "#18 Create a class House with attributes address and price. Create a derived class Mansion that adds an attribute number_of_rooms.\n",
        "class House:\n",
        "    def __init__(self, address, price):\n",
        "        # Instance attributes for house details\n",
        "        self.address = address\n",
        "        self.price = price\n",
        "\n",
        "    # Method to return formatted house details\n",
        "    def get_house_info(self):\n",
        "        return f\"Address: {self.address}, Price: ₹{self.price}\"\n",
        "\n",
        "# Derived class Mansion\n",
        "class Mansion(House):\n",
        "    def __init__(self, address, price, number_of_rooms):\n",
        "        # Calling the parent class constructor\n",
        "        super().__init__(address, price)\n",
        "        self.number_of_rooms = number_of_rooms\n",
        "\n",
        "    # Method to return formatted mansion details\n",
        "    def get_mansion_info(self):\n",
        "        return f\"Address: {self.address}, Price: ₹{self.price}, Rooms: {self.number_of_rooms}\"\n",
        "\n",
        "# Creating instances of House and Mansion\n",
        "house1 = House(\"kalindi kunj okhla, Delhi\", 5000000)\n",
        "mansion1 = Mansion(\"312 mahim, Mumbai\", 200000000, 20)\n",
        "\n",
        "# Getting and printing the house and mansion information\n",
        "print(house1.get_house_info())\n",
        "print(mansion1.get_mansion_info())"
      ],
      "metadata": {
        "colab": {
          "base_uri": "https://localhost:8080/"
        },
        "id": "f0Mue3zpIGpU",
        "outputId": "7cecbb35-3cbd-427c-f6c7-9e4598d2f172"
      },
      "execution_count": 1,
      "outputs": [
        {
          "output_type": "stream",
          "name": "stdout",
          "text": [
            "Address: kalindi kunj okhla, Delhi, Price: ₹5000000\n",
            "Address: 312 mahim, Mumbai, Price: ₹200000000, Rooms: 20\n"
          ]
        }
      ]
    },
    {
      "cell_type": "code",
      "source": [],
      "metadata": {
        "id": "8g-aaa6RIGru"
      },
      "execution_count": null,
      "outputs": []
    },
    {
      "cell_type": "code",
      "source": [],
      "metadata": {
        "id": "z2OCxJzuIGuF"
      },
      "execution_count": null,
      "outputs": []
    },
    {
      "cell_type": "code",
      "source": [],
      "metadata": {
        "id": "d__CceFQIGwo"
      },
      "execution_count": null,
      "outputs": []
    }
  ]
}