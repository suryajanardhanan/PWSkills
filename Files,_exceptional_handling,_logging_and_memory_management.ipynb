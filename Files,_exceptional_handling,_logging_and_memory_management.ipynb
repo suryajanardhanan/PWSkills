{
  "nbformat": 4,
  "nbformat_minor": 0,
  "metadata": {
    "colab": {
      "provenance": []
    },
    "kernelspec": {
      "name": "python3",
      "display_name": "Python 3"
    },
    "language_info": {
      "name": "python"
    }
  },
  "cells": [
    {
      "cell_type": "markdown",
      "source": [
        "#Files, exceptional handling,logging and Memory Management\n"
      ],
      "metadata": {
        "id": "Kg3eD9-eP27r"
      }
    },
    {
      "cell_type": "markdown",
      "source": [
        "1. What is the difference between interpreted and compiled languages ?\n",
        "- Interpreted Language\n",
        " - An interpreted language is a language in which the implementations execute instructions directly without earlier compiling a program into machine language.\n",
        " - Execution - Code is executed line by line by an interpreter.\n",
        " - Translation - The source code is not converted into machine code beforehand. Instead, it is directly read and executed by the interpreter at runtime\n",
        " - Speed - Slower because each line of code is translated and executed on the fly.\n",
        " - Error Handling - Errors are caught at runtime, as the interpreter processes the code line by line.\n",
        " - Examples - Python, JavaScript, Ruby, PHP.\n",
        "\n",
        "- Compiled Languages\n",
        " - A compiled language is a programming language whose implementations are typically compilers and not interpreters.\n",
        " - Execution - Code is first compiled into machine code (binary) by a compiler. The resulting machine code is executed by the computer.\n",
        " - Translation - The source code is converted into an executable file before running, so it doesn't need further translation at runtime.\n",
        " - Speed - Faster, as the program is already translated into machine code.\n",
        " - Error Handling - Errors are caught at compile time, which prevents execution if there are issues in the code.\n",
        " - Examples - C, C++, Java (compiled to bytecode), Go.\n",
        "\n"
      ],
      "metadata": {
        "id": "TkU7wFf3QV1v"
      }
    },
    {
      "cell_type": "markdown",
      "source": [
        "2. What is exception handling in Python ?\n",
        "- Python Exception Handling handles errors that occur during the execution of a program. Exception handling allows to respond to the error, instead of crashing the running program.\n",
        "- It enables you to catch and manage errors, making your code more robust and user-friendly."
      ],
      "metadata": {
        "id": "GSMFqsXoSjeR"
      }
    },
    {
      "cell_type": "markdown",
      "source": [
        "3. What is the purpose of the finally block in exception handling ?\n",
        "- The purpose of the finally block in exception handling is to ensure that a block of code always executes, regardless of whether an exception was raised or not. It is typically used for clean-up actions like closing files, releasing resources, or freeing up memory."
      ],
      "metadata": {
        "id": "kFd3HbG7Sj14"
      }
    },
    {
      "cell_type": "markdown",
      "source": [
        "4. What is logging in Python?\n",
        "- Python logging is a module that allows you to track events that occur while your program is running. You can use logging to record information about errors, warnings, and other events that occur during program execution. And logging is a useful tool for debugging, troubleshooting, and monitoring your program.\n",
        "\n"
      ],
      "metadata": {
        "id": "RM-_1h24Sj-i"
      }
    },
    {
      "cell_type": "markdown",
      "source": [
        "5. What is the significance of the __del__ method in Python ?\n",
        "- The __del__ method is a special method in Python that is called when an object is about to be destroyed. It allows you to define specific cleanup actions that should be taken when an object is garbage collected.\n",
        "- This method can be particularly useful for releasing external resources such as file handles, network connections, or database connections that the object may hold."
      ],
      "metadata": {
        "id": "zYrE7-ABSkGW"
      }
    },
    {
      "cell_type": "markdown",
      "source": [
        "6. What is the difference between import and from ... import in Python?\n",
        "- import module\n",
        " - Using import module brings the entire module into your script. However, to access a particular function or class within that module, you’d need to prefix it with the module’s name.\n",
        "\n",
        "- from ... import\n",
        " - This statement imports all public functions, classes, and variables defined in the module directly into the script’s namespace. This means you can use them without prefixing them with the module’s name."
      ],
      "metadata": {
        "id": "R36Em4-_SkJu"
      }
    },
    {
      "cell_type": "markdown",
      "source": [
        "7. How can you handle multiple exceptions in Python ?\n",
        "- In Python, you can handle multiple exceptions using a combination of try and multiple except blocks. This allows you to respond differently to various error types. Additionally, you can catch multiple exceptions in a single except block using parentheses."
      ],
      "metadata": {
        "id": "yzr2-4S-SkOR"
      }
    },
    {
      "cell_type": "markdown",
      "source": [
        "8. What is the purpose of the with statement when handling files in Python ?\n",
        "- In Python, with statement is used in exception handling to make the code cleaner and much more readable. It simplifies the management of common resources like file streams.It automatically handles opening and closing resources for you, even if something goes wrong."
      ],
      "metadata": {
        "id": "yMuP5LQDSkRg"
      }
    },
    {
      "cell_type": "markdown",
      "source": [
        "9. What is the difference between multithreading and multiprocessing ?\n",
        "- Multithreading\n",
        " - Multithreading is a system in which multiple threads are created of a process for increasing the computing speed of the system. In multithreading, many threads of a process are executed simultaneously and process creation in multithreading is done according to economical.\n",
        " - In in Multithreading, a common address space is shared by all the threads.\n",
        " - In multithreading, many threads of a process are executed simultaneously.\n",
        "\n",
        "\n",
        "- Multiprocessing\n",
        " - Multiprocessing is a system that has more than one or two processors. In Multiprocessing, CPUs are added to increase the computing speed of the system. Because of Multiprocessing, There are many processes are executed simultaneously. Explore more about similar topics.Multiprocessing is classified into two categories >>\n",
        "\n",
        "    1. Symmetric Multiprocessing\n",
        "    2. Asymmetric Multiprocessing\n",
        "\n",
        " - In Multiprocessing, every process owned a separate address space.\n",
        " - In Multiprocessing, Many processes are executed simultaneously."
      ],
      "metadata": {
        "id": "P-2M4nnySkU9"
      }
    },
    {
      "cell_type": "markdown",
      "source": [
        "10. What are the advantages of using logging in a program ?\n",
        "- Logging in a program provides better control, flexibility, and organization compared to using print(). It helps with debugging and monitoring, allows different log levels for importance, supports writing logs to files, and separates code from output. Logging is also customizable, persistent, and thread-safe, making it ideal for both simple and complex applications"
      ],
      "metadata": {
        "id": "rqYmQnMVSkXs"
      }
    },
    {
      "cell_type": "markdown",
      "source": [
        "11. What is memory management in Python ?\n",
        "- Python memory management is the process of allocating and dealing with memory so that your programs can run efficiently.\n",
        "- Python’s memory management is automatic, dynamic, and efficient, letting developers focus on writing code without worrying much about low-level memory handling."
      ],
      "metadata": {
        "id": "eErPiidsSka1"
      }
    },
    {
      "cell_type": "markdown",
      "source": [
        "12. What are the basic steps involved in exception handling in Python ?\n",
        "- The basic steps involved in exception handling in Python are >>\n",
        "  - Try Block - try block lets us test a block of code for errors. Python will “try” to execute the code in this block. If an exception occurs, execution will immediately jump to the except block\n",
        "\n",
        "  - Except Block - except block enables us to handle the error or exception. If the code inside the try block throws an error, Python jumps to the except block and executes it. We can handle specific exceptions or use a general except to catch all exceptions.\n",
        "\n",
        "  - Else Block - else block is optional and if included, must follow all except blocks. The else block runs only if no exceptions are raised in the try block. This is useful for code that should execute if the try block succeeds.\n",
        "\n",
        "  - Finally Block - finally block always runs, regardless of whether an exception occurred or not. It is typically used for cleanup operations (closing files, releasing resources)."
      ],
      "metadata": {
        "id": "Bg9DbkdWSkfR"
      }
    },
    {
      "cell_type": "markdown",
      "source": [
        "13. Why is memory management important in Python ?\n",
        "- Memory management in Python is important because it helps your program use memory efficiently, avoids wasting it, and keeps things running smoothly. Python automatically takes care of cleaning up unused data so you don’t have to do it yourself, which prevents crashes and slowdowns. It makes coding easier and lets you focus on solving problems instead of worrying about managing memory directly"
      ],
      "metadata": {
        "id": "xhUD6hkeSkhT"
      }
    },
    {
      "cell_type": "markdown",
      "source": [
        "14. What is the role of try and except in exception handling ?\n",
        "- The role of try and except in exception handling is >>\n",
        " - try block: Contains the code that might cause an error. Python watches this block for exceptions\n",
        "\n",
        " - except block: Specifies how to handle an error if it happens. You can catch specific types of errors and decide what to do when they occur.\n",
        "\n",
        "- try and except work together to catch errors so your program doesn’t crash. try tests the risky code, and except decides what to do if something goes wrong"
      ],
      "metadata": {
        "id": "Ti1ekX_NSkjR"
      }
    },
    {
      "cell_type": "markdown",
      "source": [
        "15. How does Python's garbage collection system work ?\n",
        "- Python’s garbage collection system is like an automatic cleaner for your program’s memory. It keeps track of data that’s being used and removes stuff that’s no longer needed. This prevents your program from wasting memory or crashing because it runs out of space. It works by counting how many times data is used and cleaning up when no one’s using it anymore. If there’s a tricky situation where data points to itself, Python’s system can handle that too. All of this happens in the background, so you don’t have to worry about managing memory yourself."
      ],
      "metadata": {
        "id": "vb_n7riSSkly"
      }
    },
    {
      "cell_type": "markdown",
      "source": [
        "16. What is the purpose of the else block in exception handling ?\n",
        "- The else block in exception handling runs only when the try block completes without any errors. It’s used for successful code execution, keeping normal operations separate from error handling.\n"
      ],
      "metadata": {
        "id": "Sk-uxdB9Skol"
      }
    },
    {
      "cell_type": "markdown",
      "source": [
        "17. What are the common logging levels in Python ?\n",
        "- The common logging levels in Python represent the severity of messages logged. They allow developers to filter and manage logs efficiently.\n",
        "-  The primary logging levels are >>\n",
        "\n",
        " - DEBUG - Used for detailed diagnostic information, useful during development for debugging.\n",
        "  - INFO - General updates about program progress.\n",
        "   - WARNING - Indicates a potential problem that is not critical but might need attention.\n",
        "  - ERROR - Logs errors that prevent some part of the program from working correctly.\n",
        " - CRITICAL - Serious issues that may stop the program.\n",
        "These levels help manage logs efficiently, focusing on important events while filtering out unnecessary details."
      ],
      "metadata": {
        "id": "Pv2EmT2DSkrI"
      }
    },
    {
      "cell_type": "markdown",
      "source": [
        "18. What is the difference between os.fork() and multiprocessing in Python ?\n",
        "- The difference between os.fork() and multiprocessing in Python is >>\n",
        "\n",
        " - os.fork() is a low-level tool that makes an exact copy of your program to run a new process. It only works on Unix systems (like Linux or macOS) and requires you to manually manage communication between the processes. Think of it as a direct but tricky way to split your program into two parts running side-by-side.\n",
        "\n",
        "  - multiprocessing is a user-friendly module that works on all platforms (including Windows). It has built-in features for starting new processes, sharing data, and managing them easily without extra work. It’s like using a smart assistant to handle multiple tasks at once, without worrying about the complex details."
      ],
      "metadata": {
        "id": "T9ry9VZwSkt0"
      }
    },
    {
      "cell_type": "markdown",
      "source": [
        "19. What is the importance of closing a file in Python ?\n",
        "- Closing a file is essential to ensure that all resources used by the file are properly released. file.close() method closes the file and ensures that any changes made to the file are saved.\n",
        "\n",
        "- Reasons to Close a File >>\n",
        "  - Resource Leaks - If you don't close a file, the system resources used by that file will not be released, which can lead to resource leaks. Over time, these leaks can consume a significant amount of system resources, potentially causing performance issues or even crashes\n",
        "\n",
        "  - Preventing Data Loss- If a file isn’t closed properly, some data may not be saved, leading to data corruption or incomplete files.\n",
        "  \n",
        "  - File Locking - Some file operations, such as writing or appending, require exclusive access to the file. If you don't close the file, it may remain locked, preventing other processes or applications from accessing the file.\n",
        "\n",
        "  - Freeing System Resources - When a file is open, it uses memory and file descriptors. Closing the file releases these resources for other tasks.\n",
        "\n",
        "  - Good Practice - Explicitly closing files makes the code cleaner and more maintainable.\n",
        "\n"
      ],
      "metadata": {
        "id": "wDDQPToRSkxF"
      }
    },
    {
      "cell_type": "markdown",
      "source": [
        "20. What is the difference between file.read() and file.readline() in Python ?\n",
        "- The differences between readline() and readlines() methods are >>\n",
        "\n",
        "\n",
        "- readline()\n",
        "\n",
        " - This method will read one line in a file.\n",
        "\n",
        "  - A new line character is left at the string end and is ignored for the last line provided the file does not finish in a new line.\n",
        "\n",
        "  - This method reads up to the end of the line with readline() and returns a list.\n",
        "\n",
        "- readlines()\n",
        "  - This method will read the entire content of the file at a time.\n",
        "\n",
        "  -  This method reads all the file content and stores it in the list.\n",
        "\n",
        "  - This method reads up to the end of the line with readline () and returns a list."
      ],
      "metadata": {
        "id": "r5GZ_UswSk0L"
      }
    },
    {
      "cell_type": "markdown",
      "source": [
        "21. What is the logging module in Python used for ?\n",
        "- The logging module in Python is used for generating and managing log messages in a program. It allows developers to track events, errors, and informational messages, helping with debugging, monitoring, and troubleshooting.\n",
        "\n"
      ],
      "metadata": {
        "id": "RJuMhQQrSk2X"
      }
    },
    {
      "cell_type": "markdown",
      "source": [
        "22. What is the os module in Python used for in file handling ?\n",
        "- The OS module in Python provides functions for interacting with the operating system. OS comes under Python’s standard utility modules. It provides a variety of functions that allow you to perform tasks like creating and deleting files and directories, checking for file existence, and manipulating file paths.\n",
        "\n",
        "- With the os module, you can >>\n",
        " - Create and remove directories using os.mkdir( ) and os.rmdir( ).\n",
        " - Rename or move files with os.rename().\n",
        " - Check if a file or directory exists with os.path.exists()\n",
        " - Join file paths with os.path.join(), which is useful for handling file paths across different operating systems.\n",
        " - Get the current working directory with os.getcwd() or change the working directory with os.chdir().\n",
        " - List all files and directories in a directory using os.listdir()."
      ],
      "metadata": {
        "id": "MN2ThIivSk5D"
      }
    },
    {
      "cell_type": "markdown",
      "source": [
        "23. What are the challenges associated with memory management in Python ?\n",
        "- The main Challenges are >>\n",
        " - Memory Leaks - While Python automatically manages memory, memory leaks can occur if objects are inadvertently kept in memory due to lingering references, especially when working with large applications or complex objects.\n",
        " - Garbage Collection Overhead - Python’s garbage collector runs in the background, periodically checking for unreachable objects. While this helps with memory management, it can introduce overhead during execution, especially in large, long-running applications.\n",
        " - Memory Fragmentation - As objects are created and deleted dynamically, memory fragmentation can occur, leading to inefficient use of memory. This is more noticeable in long-running applications where objects are frequently created and destroyed.\n",
        " - Managing External Resources - Python manages memory, but external resources (like file handles, network connections, and database cursors) are not automatically cleaned up. If these resources aren't closed properly, they can lead to resource leaks.\n",
        " - Reference Counting and Cyclic References - Python uses reference counting to track how many references point to an object. However, when objects reference each other in a cycle (e.g., two objects refer to each other), reference counting alone can't free them.\n",
        " - Managing External Resources - Python manages memory, but external resources (like file handles, network connections, and database cursors) are not automatically cleaned up. If these resources aren't closed properly, they can lead to resource leaks\n",
        "\n"
      ],
      "metadata": {
        "id": "eD90LKJASk75"
      }
    },
    {
      "cell_type": "markdown",
      "source": [
        "24. How do you raise an exception manually in Python ?\n",
        "- In Python, you can manually raise an exception using the raise keyword. This allows you to trigger an error when a specific condition occurs in your code.\n",
        "\n",
        "\n",
        "   - syntax - raise ExceptionType(\"Custom error message\")"
      ],
      "metadata": {
        "id": "t9_WcMVZSk-r"
      }
    },
    {
      "cell_type": "markdown",
      "source": [
        "25. Why is it important to use multithreading in certain applications ?\n",
        "- Multithreading is important for faster performance, better responsiveness, and efficient resource use. It allows multiple tasks to run concurrently, making applications handle I/O-bound tasks more effectively and keeping user interfaces responsive. This makes it essential for programs like web scraping, GUIs, and servers."
      ],
      "metadata": {
        "id": "3A3rcCVCSlBp"
      }
    },
    {
      "cell_type": "markdown",
      "source": [
        "# Practical Questions"
      ],
      "metadata": {
        "id": "W0ttkbc0SlEy"
      }
    },
    {
      "cell_type": "code",
      "source": [
        "#1 How can you open a file for writing in Python and write a string to it ?\n",
        "\n",
        "# opening a file named new_file for writing\n",
        "file = open(\"new_file.txt\", \"w\")\n",
        "# Writing a string in the file\n",
        "file.write(\"Writing in the file\\n\")\n",
        "file.write(\"This is the second line of the file.\\n\")\n",
        "file.write(\"This is the third line of the file.\\n\")\n",
        "# closing file\n",
        "file.close()\n",
        "\n",
        "#the file created here (new_file.txt) is used in further question."
      ],
      "metadata": {
        "id": "QOiN32MsPfsl"
      },
      "execution_count": 7,
      "outputs": []
    },
    {
      "cell_type": "code",
      "source": [
        "#2 Write a Python program to read the contents of a file and print each line ?\n",
        "def read_and_print_lines(filename):\n",
        "    try:\n",
        "        # Open the file using a context manager\n",
        "        with open(filename, \"r\") as file:\n",
        "            # Read and print each line\n",
        "            for line in file:\n",
        "                print(line.strip())  # Strip removes leading/trailing whitespace and newline characters\n",
        "\n",
        "    except FileNotFoundError:\n",
        "        print(f\"Error: The file '{filename}' does not exist.\")\n",
        "    except Exception as e:\n",
        "        print(f\"An unexpected error occurred: {e}\")\n",
        "\n",
        "# Example usage\n",
        "filename = \"new_file.txt\"  # Replace with your file name\n",
        "read_and_print_lines(filename)\n",
        "\n",
        "\n"
      ],
      "metadata": {
        "colab": {
          "base_uri": "https://localhost:8080/"
        },
        "id": "v2b82hF1Pf16",
        "outputId": "f5816c5e-afac-4ecd-8baf-e46ff97ae322"
      },
      "execution_count": null,
      "outputs": [
        {
          "output_type": "stream",
          "name": "stdout",
          "text": [
            "Writing in the file\n",
            "This is the second line of the file.\n",
            "This is the third line of the file.\n"
          ]
        }
      ]
    },
    {
      "cell_type": "code",
      "source": [
        "#3 How would you handle a case where the file doesn't exist while trying to open it for reading ?\n",
        "def read_file(filename):\n",
        "    try:\n",
        "        # Attempt to open the file\n",
        "        with open(filename, \"r\") as file:\n",
        "            content = file.read()\n",
        "            print(\"File contents:\")\n",
        "            print(content)\n",
        "    except FileNotFoundError:\n",
        "        print(f\"Error: The file '{filename}' does not exist.\")\n",
        "    except Exception as e:\n",
        "        print(f\"An unexpected error occurred: {e}\")\n",
        "\n",
        "# Example usage\n",
        "filename = \"data_analytics.txt\"  # Replace with the file name you want to read\n",
        "read_file(filename)\n"
      ],
      "metadata": {
        "colab": {
          "base_uri": "https://localhost:8080/"
        },
        "id": "IsMdAbr9PgBE",
        "outputId": "4bc14fb7-bc50-4767-c69d-6cd0f428ede6"
      },
      "execution_count": null,
      "outputs": [
        {
          "output_type": "stream",
          "name": "stdout",
          "text": [
            "Error: The file 'data_analytics.txt' does not exist.\n"
          ]
        }
      ]
    },
    {
      "cell_type": "code",
      "source": [
        "#4 Write a Python script that reads from one file and writes its content to another file ?\n",
        "# Open the source file for reading and the target file for writing\n",
        "with open(\"new_file.txt\", \"r\") as source_file:\n",
        "    with open(\"target.txt\", \"w\") as target_file:\n",
        "        # Read content from the source file\n",
        "        content = source_file.read()\n",
        "        # Write the content to the target file\n",
        "        target_file.write(content)\n",
        "\n",
        "print(\"File content has been copied successfully!\")\n"
      ],
      "metadata": {
        "colab": {
          "base_uri": "https://localhost:8080/"
        },
        "id": "qYmNGmmpPgKO",
        "outputId": "86098aa6-b9a6-4d3f-d926-386cd00099b7"
      },
      "execution_count": null,
      "outputs": [
        {
          "output_type": "stream",
          "name": "stdout",
          "text": [
            "File content has been copied successfully!\n"
          ]
        }
      ]
    },
    {
      "cell_type": "code",
      "source": [
        "#5 How would you catch and handle division by zero error in Python ?\n",
        "try:\n",
        "    numerator = 5\n",
        "    denominator = 0\n",
        "    result = numerator / denominator\n",
        "    print(f\"The result is: {result}\")\n",
        "except ZeroDivisionError:\n",
        "    print(\"Error: Division by zero is not allowed.\")\n"
      ],
      "metadata": {
        "colab": {
          "base_uri": "https://localhost:8080/"
        },
        "id": "qFmtr2i0PgSt",
        "outputId": "fe9492b2-da87-4721-c6dc-260c9aa86a1e"
      },
      "execution_count": null,
      "outputs": [
        {
          "output_type": "stream",
          "name": "stdout",
          "text": [
            "Error: Division by zero is not allowed.\n"
          ]
        }
      ]
    },
    {
      "cell_type": "code",
      "source": [
        "#6 Write a Python program that logs an error message to a log file when a division by zero exception occurs ?\n",
        "import logging\n",
        "\n",
        "# Configure logging to write to a file\n",
        "logging.basicConfig(filename=\"error.log\", level=logging.ERROR,\n",
        "                    format=\"%(asctime)s - %(levelname)s - %(message)s\")\n",
        "\n",
        "def divide_numbers(numerator, denominator):\n",
        "    try:\n",
        "        result = numerator / denominator\n",
        "        print(f\"The result is: {result}\")\n",
        "    except ZeroDivisionError:\n",
        "        logging.error(\"Division by zero attempted.\")\n",
        "        print(\"Error: Division by zero is not allowed.\")\n",
        "\n",
        "# Example usage\n",
        "divide_numbers(15, 0)\n"
      ],
      "metadata": {
        "colab": {
          "base_uri": "https://localhost:8080/"
        },
        "id": "1hZz4-plPgbl",
        "outputId": "0f186ae3-47ff-4d92-a46c-6989fef06b5e"
      },
      "execution_count": null,
      "outputs": [
        {
          "output_type": "stream",
          "name": "stderr",
          "text": [
            "ERROR:root:Division by zero attempted.\n"
          ]
        },
        {
          "output_type": "stream",
          "name": "stdout",
          "text": [
            "Error: Division by zero is not allowed.\n"
          ]
        }
      ]
    },
    {
      "cell_type": "code",
      "source": [
        "#7 How do you log information at different levels (INFO, ERROR, WARNING) in Python using the logging module ?\n",
        "import logging\n",
        "\n",
        "# Configure the logging settings\n",
        "logging.basicConfig(level=logging.DEBUG,  # Set the minimum logging level\n",
        "                    format=\"%(asctime)s - %(levelname)s - %(message)s\",\n",
        "                    filename=\"app.log\",  # Log messages to a file\n",
        "                    filemode=\"w\")        # Overwrite the file each time\n",
        "\n",
        "# Log messages at different levels\n",
        "logging.debug(\"This is a DEBUG message (useful for debugging).\")\n",
        "logging.info(\"This is an INFO message (general information).\")\n",
        "logging.warning(\"This is a WARNING message (indicates a potential issue).\")\n",
        "logging.error(\"This is an ERROR message (something went wrong).\")\n",
        "logging.critical(\"This is a CRITICAL message (serious problem).\")\n"
      ],
      "metadata": {
        "colab": {
          "base_uri": "https://localhost:8080/"
        },
        "id": "QqLz0r6YPgku",
        "outputId": "a3f3d0ae-c6c9-4ad3-8b5b-7a63249f2286"
      },
      "execution_count": null,
      "outputs": [
        {
          "output_type": "stream",
          "name": "stderr",
          "text": [
            "WARNING:root:This is a WARNING message (indicates a potential issue).\n",
            "ERROR:root:This is an ERROR message (something went wrong).\n",
            "CRITICAL:root:This is a CRITICAL message (serious problem).\n"
          ]
        }
      ]
    },
    {
      "cell_type": "code",
      "source": [
        "#8 Write a program to handle a file opening error using exception handling ?\n",
        "try:\n",
        "    # Attempt to open a file\n",
        "    with open(\"nonexistent_file.txt\", \"r\") as file:\n",
        "        content = file.read()\n",
        "        print(content)\n",
        "except FileNotFoundError:\n",
        "    # Handle the error if the file doesn't exist\n",
        "    print(\"Error: The file you are trying to open does not exist.\")\n",
        "except PermissionError:\n",
        "    # Handle the error if there are permission issues\n",
        "    print(\"Error: You do not have the necessary permissions to access the file.\")\n",
        "except Exception as e:\n",
        "    # Handle any other unexpected exceptions\n",
        "    print(f\"An unexpected error occurred: {e}\")\n"
      ],
      "metadata": {
        "colab": {
          "base_uri": "https://localhost:8080/"
        },
        "id": "i5foaJIcPgud",
        "outputId": "a1ebb382-536b-4dc8-95f8-a83b990d40b0"
      },
      "execution_count": null,
      "outputs": [
        {
          "output_type": "stream",
          "name": "stdout",
          "text": [
            "Error: The file you are trying to open does not exist.\n"
          ]
        }
      ]
    },
    {
      "cell_type": "code",
      "source": [
        "#9 How can you read a file line by line and store its content in a list in Python ?\n",
        "# Open the file for reading\n",
        "with open(\"new_file.txt\", \"r\") as file:\n",
        "    # Read all lines and store them in a list\n",
        "    lines = file.readlines()\n",
        "\n",
        "# Print the list of lines\n",
        "print(lines)\n"
      ],
      "metadata": {
        "colab": {
          "base_uri": "https://localhost:8080/"
        },
        "id": "cWTwcmw9Pg5B",
        "outputId": "cf65c213-f62c-4325-c1bd-4ee6ec53e306"
      },
      "execution_count": null,
      "outputs": [
        {
          "output_type": "stream",
          "name": "stdout",
          "text": [
            "['Writing in the file\\n', 'This is the second line of the file.\\n', 'This is the third line of the file.\\n']\n"
          ]
        }
      ]
    },
    {
      "cell_type": "code",
      "source": [
        "#10 How can you append data to an existing file in Python ?\n",
        "# Open the file in append mode\n",
        "with open(\"new_file.txt\", \"a\") as file:\n",
        "    # Append data to the file\n",
        "    file.write(\"This is a new line of text.\\n\")\n",
        "\n",
        "print(\"Data appended successfully!\")\n"
      ],
      "metadata": {
        "colab": {
          "base_uri": "https://localhost:8080/"
        },
        "id": "MCYrRNBjPhG7",
        "outputId": "14c1bc80-df83-490f-e1be-9cb51198d11c"
      },
      "execution_count": null,
      "outputs": [
        {
          "output_type": "stream",
          "name": "stdout",
          "text": [
            "Data appended successfully!\n"
          ]
        }
      ]
    },
    {
      "cell_type": "code",
      "source": [
        "#11 Write a Python program that uses a try-except block to handle an error when attempting to access a dictionary key that doesn't exist ?\n",
        "# Define a sample dictionary\n",
        "data = {\"name\": \"Parvez\", \"age\": 24}\n",
        "\n",
        "try:\n",
        "    # Attempt to access a key that may not exist\n",
        "    value = data[\"address\"]\n",
        "    print(f\"The value is: {value}\")\n",
        "except KeyError:\n",
        "    # Handle the KeyError if the key does not exist\n",
        "    print(\"Error: The key 'address' does not exist in the dictionary.\")\n"
      ],
      "metadata": {
        "colab": {
          "base_uri": "https://localhost:8080/"
        },
        "id": "0uFW7YECPhX6",
        "outputId": "4d0581aa-67bd-426c-fc32-24642807489e"
      },
      "execution_count": null,
      "outputs": [
        {
          "output_type": "stream",
          "name": "stdout",
          "text": [
            "Error: The key 'address' does not exist in the dictionary.\n"
          ]
        }
      ]
    },
    {
      "cell_type": "code",
      "source": [
        "#12 Write a program that demonstrates using multiple except blocks to handle different types of exceptions.\n",
        "try:\n",
        "    # Prompt user for two inputs\n",
        "    numerator = int(input(\"Enter the numerator: \"))\n",
        "    denominator = int(input(\"Enter the denominator: \"))\n",
        "\n",
        "    # Perform division\n",
        "    result = numerator / denominator\n",
        "    print(f\"The result is: {result}\")\n",
        "\n",
        "except ValueError:\n",
        "    # Handle invalid input (e.g., entering non-integer values)\n",
        "    print(\"Error: Please enter valid integer values.\")\n",
        "\n",
        "except ZeroDivisionError:\n",
        "    # Handle division by zero\n",
        "    print(\"Error: Division by zero is not allowed.\")\n",
        "\n",
        "except Exception as e:\n",
        "    # Handle any other unexpected exceptions\n",
        "    print(f\"An unexpected error occurred: {e}\")\n"
      ],
      "metadata": {
        "colab": {
          "base_uri": "https://localhost:8080/"
        },
        "id": "8YrLcJnHPhiZ",
        "outputId": "c286e288-b3b4-47c4-b54d-c185f36724ec"
      },
      "execution_count": null,
      "outputs": [
        {
          "output_type": "stream",
          "name": "stdout",
          "text": [
            "Enter the numerator: 5\n",
            "Enter the denominator: 0\n",
            "Error: Division by zero is not allowed.\n"
          ]
        }
      ]
    },
    {
      "cell_type": "code",
      "source": [
        "#13 How would you check if a file exists before attempting to read it in Python ?\n",
        "import os\n",
        "\n",
        "filename = \"new_file.txt\"\n",
        "\n",
        "if os.path.exists(filename):\n",
        "    # File exists, proceed to open and read\n",
        "    with open(filename, \"r\") as file:\n",
        "        content = file.read()\n",
        "        print(content)\n",
        "else:\n",
        "    # File does not exist\n",
        "    print(f\"Error: The file '{filename}' does not exist.\")\n"
      ],
      "metadata": {
        "colab": {
          "base_uri": "https://localhost:8080/"
        },
        "id": "cqpEgGinPhsB",
        "outputId": "138d37cd-dbd8-4982-c28f-c9230619b5c6"
      },
      "execution_count": null,
      "outputs": [
        {
          "output_type": "stream",
          "name": "stdout",
          "text": [
            "Writing in the file\n",
            "This is the second line of the file.\n",
            "This is the third line of the file.\n",
            "This is a new line of text.\n",
            "\n"
          ]
        }
      ]
    },
    {
      "cell_type": "code",
      "source": [
        "#14 Write a program that uses the logging module to log both informational and error messages ?\n",
        "import logging\n",
        "\n",
        "# Configure logging to print to the console in Colab\n",
        "logging.basicConfig(\n",
        "    level=logging.DEBUG,  # Set logging level to DEBUG\n",
        "    format='%(asctime)s - %(levelname)s - %(message)s'  # Log format\n",
        ")\n",
        "\n",
        "# Function to demonstrate logging\n",
        "def process_numbers(a, b):\n",
        "    try:\n",
        "        logging.info(f\"Starting processing with inputs a={a}, b={b}\")\n",
        "\n",
        "        # Perform a division operation\n",
        "        result = a / b\n",
        "        logging.info(f\"Division successful: {a} / {b} = {result}\")\n",
        "        return result\n",
        "\n",
        "    except ZeroDivisionError:\n",
        "        logging.error(\"Division by zero error occurred!\", exc_info=True)\n",
        "        return None\n",
        "    except Exception as e:\n",
        "        logging.error(\"An unexpected error occurred!\", exc_info=True)\n",
        "        return None\n",
        "\n",
        "# Main script\n",
        "if __name__ == \"__main__\":\n",
        "    logging.info(\"Program started\")\n",
        "\n",
        "    # Call the function with valid input\n",
        "    process_numbers(10, 2)\n",
        "\n",
        "    # Call the function with invalid input (division by zero)\n",
        "    process_numbers(5, 0)\n",
        "\n",
        "    # Log that the program has completed\n",
        "    logging.info(\"Program finished\")\n"
      ],
      "metadata": {
        "colab": {
          "base_uri": "https://localhost:8080/"
        },
        "id": "e7xm4b_PPh2S",
        "outputId": "7f4c3b0a-44b0-41d6-ebe2-b0a467927248"
      },
      "execution_count": 12,
      "outputs": [
        {
          "output_type": "stream",
          "name": "stderr",
          "text": [
            "ERROR:root:Division by zero error occurred!\n",
            "Traceback (most recent call last):\n",
            "  File \"<ipython-input-12-e2560bdc4d1f>\", line 16, in process_numbers\n",
            "    result = a / b\n",
            "             ~~^~~\n",
            "ZeroDivisionError: division by zero\n"
          ]
        }
      ]
    },
    {
      "cell_type": "code",
      "source": [
        "#15 Write a Python program that prints the content of a file and handles the case when the file is empty ?\n",
        "try:\n",
        "    # Ask the user for the filename\n",
        "    filename = input(\"Enter the filename: \")\n",
        "\n",
        "    # Open the file for reading\n",
        "    with open(filename, \"r\") as file:\n",
        "        content = file.read()\n",
        "\n",
        "    # Check if the file is empty\n",
        "    if content.strip() == \"\":\n",
        "        print(\"The file is empty.\")\n",
        "    else:\n",
        "        print(\"File content:\")\n",
        "        print(content)\n",
        "\n",
        "except FileNotFoundError:\n",
        "    # Handle the case where the file does not exist\n",
        "    print(f\"Error: The file '{filename}' does not exist. Please check the filename and try again.\")\n",
        "\n",
        "except Exception as e:\n",
        "    # Handle other unexpected errors\n",
        "    print(f\"An unexpected error occurred: {e}\")\n"
      ],
      "metadata": {
        "colab": {
          "base_uri": "https://localhost:8080/"
        },
        "id": "c78OatBSPiBF",
        "outputId": "429a7a16-3ad9-407e-b80a-ee170b9c0b9b"
      },
      "execution_count": null,
      "outputs": [
        {
          "output_type": "stream",
          "name": "stdout",
          "text": [
            "Enter the filename: no file\n",
            "Error: The file 'no file' does not exist. Please check the filename and try again.\n"
          ]
        }
      ]
    },
    {
      "cell_type": "code",
      "source": [
        "#16 Demonstrate how to use memory profiling to check the memory usage of a small program ?\n",
        "import tracemalloc\n",
        "\n",
        "def create_large_list():\n",
        "    large_list = [i for i in range(10**6)]  # Create a list with a million elements\n",
        "    return large_list\n",
        "\n",
        "if __name__ == \"__main__\":\n",
        "    # Start tracing memory allocations\n",
        "    tracemalloc.start()\n",
        "\n",
        "    # Record memory usage before and after the function\n",
        "    snapshot1 = tracemalloc.take_snapshot()\n",
        "    create_large_list()\n",
        "    snapshot2 = tracemalloc.take_snapshot()\n",
        "\n",
        "    # Compare memory usage and print the top differences\n",
        "    top_stats = snapshot2.compare_to(snapshot1, 'lineno')\n",
        "\n",
        "    print(\"[ Top 5 memory usage ]\")\n",
        "    for stat in top_stats[:5]:\n",
        "        print(stat)\n",
        "\n",
        "\n",
        "\n",
        "\n",
        "\n",
        "\n",
        "\n",
        "\n",
        "\n",
        "\n",
        "\n",
        "\n"
      ],
      "metadata": {
        "colab": {
          "base_uri": "https://localhost:8080/"
        },
        "id": "Qwsyo1tzPiLP",
        "outputId": "1a515cf1-4676-47eb-8815-024215f5f3d1"
      },
      "execution_count": 6,
      "outputs": [
        {
          "output_type": "stream",
          "name": "stdout",
          "text": [
            "[ Top 5 memory usage ]\n",
            "/usr/local/lib/python3.11/dist-packages/google/colab/_variable_inspector.py:28: size=768 B (+768 B), count=1 (+1), average=768 B\n",
            "/usr/lib/python3.11/tracemalloc.py:560: size=320 B (+320 B), count=2 (+2), average=160 B\n",
            "/usr/lib/python3.11/tracemalloc.py:423: size=320 B (+320 B), count=2 (+2), average=160 B\n",
            "/usr/lib/python3.11/asyncio/base_events.py:1859: size=296 B (+296 B), count=1 (+1), average=296 B\n",
            "/usr/lib/python3.11/threading.py:320: size=264 B (+264 B), count=6 (+6), average=44 B\n"
          ]
        }
      ]
    },
    {
      "cell_type": "code",
      "source": [
        "#17 Write a Python program to create and write a list of numbers to a file, one number per line.\n",
        "# List of numbers\n",
        "numbers = [1, 2, 3, 4, 5, 6, 7, 8, 9, 10]\n",
        "\n",
        "# Open the file for writing\n",
        "with open(\"numbers.txt\", \"w\") as file:\n",
        "    # Write each number to the file, one per line\n",
        "    for number in numbers:\n",
        "        file.write(f\"{number}\\n\")\n",
        "\n",
        "print(\"Numbers have been written to 'numbers.txt'.\")\n"
      ],
      "metadata": {
        "colab": {
          "base_uri": "https://localhost:8080/"
        },
        "id": "SJg2APjYPiVl",
        "outputId": "0f41c172-ac62-4741-bbe0-068afe8c8097"
      },
      "execution_count": null,
      "outputs": [
        {
          "output_type": "stream",
          "name": "stdout",
          "text": [
            "Numbers have been written to 'numbers.txt'.\n"
          ]
        }
      ]
    },
    {
      "cell_type": "code",
      "source": [
        "#18 How would you implement a basic logging setup that logs to a file with rotation after 1MB ?\n",
        "import logging\n",
        "from logging.handlers import RotatingFileHandler\n",
        "\n",
        "# Set up the logging configuration\n",
        "log_file = \"app.log\"\n",
        "log_size = 1 * 1024 * 1024  # 1MB size limit\n",
        "\n",
        "# Create a rotating file handler\n",
        "handler = RotatingFileHandler(log_file, maxBytes=log_size, backupCount=3)\n",
        "handler.setLevel(logging.DEBUG)  # Set logging level to DEBUG\n",
        "\n",
        "# Create a logging format\n",
        "formatter = logging.Formatter('%(asctime)s - %(levelname)s - %(message)s')\n",
        "handler.setFormatter(formatter)\n",
        "\n",
        "# Get the logger and add the handler\n",
        "logger = logging.getLogger()\n",
        "logger.setLevel(logging.DEBUG)  # Set logging level to DEBUG\n",
        "logger.addHandler(handler)\n",
        "\n",
        "# Example logging\n",
        "logger.debug(\"This is a debug message.\")\n",
        "logger.info(\"This is an info message.\")\n",
        "logger.warning(\"This is a warning message.\")\n",
        "logger.error(\"This is an error message.\")\n",
        "logger.critical(\"This is a critical message.\")\n"
      ],
      "metadata": {
        "colab": {
          "base_uri": "https://localhost:8080/"
        },
        "id": "1iCOEusTPigU",
        "outputId": "c9eba745-d856-4950-b18f-e45a5ed52db4"
      },
      "execution_count": null,
      "outputs": [
        {
          "output_type": "stream",
          "name": "stderr",
          "text": [
            "DEBUG:root:This is a debug message.\n",
            "INFO:root:This is an info message.\n",
            "WARNING:root:This is a warning message.\n",
            "ERROR:root:This is an error message.\n",
            "CRITICAL:root:This is a critical message.\n"
          ]
        }
      ]
    },
    {
      "cell_type": "code",
      "source": [
        "#19 Write a program that handles both IndexError and KeyError using a try-except block.\n",
        "def handle_errors():\n",
        "    # Sample list and dictionary\n",
        "    my_list = [16, 17, 18]\n",
        "    my_dict = {'a': 1, 'b': 2}\n",
        "\n",
        "    try:\n",
        "        # Attempting to access an out-of-range index (IndexError)\n",
        "        print(my_list[5])  # This will raise IndexError\n",
        "\n",
        "        # Attempting to access a non-existent key (KeyError)\n",
        "        print(my_dict['c'])  # This will raise KeyError\n",
        "\n",
        "    except IndexError as index_error:\n",
        "        print(f\"IndexError occurred: {index_error}\")\n",
        "\n",
        "    except KeyError as key_error:\n",
        "        print(f\"KeyError occurred: {key_error}\")\n",
        "\n",
        "# Call the function\n",
        "handle_errors()\n"
      ],
      "metadata": {
        "colab": {
          "base_uri": "https://localhost:8080/"
        },
        "id": "0JDvm_w-Pirj",
        "outputId": "d7f51bea-56bf-489f-9781-492083c09509"
      },
      "execution_count": null,
      "outputs": [
        {
          "output_type": "stream",
          "name": "stdout",
          "text": [
            "IndexError occurred: list index out of range\n"
          ]
        }
      ]
    },
    {
      "cell_type": "code",
      "source": [
        "#20 How would you open a file and read its contents using a context manager in Python ?\n",
        "# Open the file using a context manager and read its contents\n",
        "filename = \"new_file.txt\"\n",
        "\n",
        "try:\n",
        "    with open(filename, \"r\") as file:\n",
        "        content = file.read()  # Read the entire file content\n",
        "        print(\"File contents:\")\n",
        "        print(content)\n",
        "\n",
        "#using execption in case file not found\n",
        "except FileNotFoundError:\n",
        "    print(f\"Error: The file '{filename}' does not exist.\")\n",
        "except Exception as e:\n",
        "    print(f\"An unexpected error occurred: {e}\")\n"
      ],
      "metadata": {
        "colab": {
          "base_uri": "https://localhost:8080/"
        },
        "id": "IkjZm74TPi2k",
        "outputId": "4660780d-08fa-49ce-bf9d-88dcd26cc344"
      },
      "execution_count": null,
      "outputs": [
        {
          "output_type": "stream",
          "name": "stdout",
          "text": [
            "File contents:\n",
            "Writing in the fileThis is the second line of the file./nThis is the third line of the file./n\n"
          ]
        }
      ]
    },
    {
      "cell_type": "code",
      "source": [
        "#21 Write a Python program that reads a file and prints the number of occurrences of a specific word.\n",
        "def count_word_occurrences(filename, word_to_count):\n",
        "    try:\n",
        "        # Open the file using a context manager\n",
        "        with open(filename, \"r\") as file:\n",
        "            content = file.read()  # Read the entire file content\n",
        "\n",
        "        # Convert content to lowercase and split into words\n",
        "        words = content.lower().split()\n",
        "        word_count = words.count(word_to_count.lower())\n",
        "\n",
        "        print(f\"The word '{word_to_count}' occurs {word_count} times in the file '{filename}'.\")\n",
        "\n",
        "    except FileNotFoundError:\n",
        "        print(f\"Error: The file '{filename}' does not exist.\")\n",
        "    except Exception as e:\n",
        "        print(f\"An unexpected error occurred: {e}\")\n",
        "\n",
        "# Example usage\n",
        "filename = \"new_file.txt\"\n",
        "word_to_count = \"line\"\n",
        "count_word_occurrences(filename, word_to_count)\n"
      ],
      "metadata": {
        "colab": {
          "base_uri": "https://localhost:8080/"
        },
        "id": "iITlfcoUPjBm",
        "outputId": "38413b6b-5113-45dd-c8a0-321bd6a6f7f1"
      },
      "execution_count": null,
      "outputs": [
        {
          "output_type": "stream",
          "name": "stdout",
          "text": [
            "The word 'line' occurs 2 times in the file 'new_file.txt'.\n"
          ]
        }
      ]
    },
    {
      "cell_type": "code",
      "source": [
        "#22 How can you check if a file is empty before attempting to read its contents ?\n",
        "import os\n",
        "\n",
        "def check_file_empty(filename):\n",
        "    try:\n",
        "        # Check if the file exists\n",
        "        if not os.path.exists(filename):\n",
        "            print(f\"Error: The file '{filename}' does not exist.\")\n",
        "            return\n",
        "\n",
        "        # Check the file size\n",
        "        if os.path.getsize(filename) == 0:\n",
        "            print(f\"The file '{filename}' is empty.\")\n",
        "        else:\n",
        "            # If not empty, read and print its contents\n",
        "            with open(filename, \"r\") as file:\n",
        "                print(\"File contents:\")\n",
        "                print(file.read())\n",
        "\n",
        "    except Exception as e:\n",
        "        print(f\"An unexpected error occurred: {e}\")\n",
        "\n",
        "# Example usage\n",
        "filename = \"new_file.txt\"\n",
        "check_file_empty(filename)\n"
      ],
      "metadata": {
        "colab": {
          "base_uri": "https://localhost:8080/"
        },
        "id": "talgXYiKPjMz",
        "outputId": "ce1a5785-3682-4bed-cd55-c87719fca72b"
      },
      "execution_count": null,
      "outputs": [
        {
          "output_type": "stream",
          "name": "stdout",
          "text": [
            "File contents:\n",
            "Writing in the fileThis is the second line of the file./nThis is the third line of the file./n\n"
          ]
        }
      ]
    },
    {
      "cell_type": "code",
      "source": [
        "#23 Write a Python program that writes to a log file when an error occurs during file handling.\n",
        "import logging\n",
        "\n",
        "# Configure the logging module to write logs to a file\n",
        "logging.basicConfig(\n",
        "    filename=\"file_handling.log\",\n",
        "    level=logging.ERROR,\n",
        "    format=\"%(asctime)s - %(levelname)s - %(message)s\"\n",
        ")\n",
        "\n",
        "def read_file(filename):\n",
        "    try:\n",
        "        # Attempt to open and read the file\n",
        "        with open(filename, \"r\") as file:\n",
        "            content = file.read()\n",
        "            print(\"File contents:\")\n",
        "            print(content)\n",
        "    except FileNotFoundError:\n",
        "        error_message = f\"Error: The file '{filename}' does not exist.\"\n",
        "        print(error_message)\n",
        "        logging.error(error_message)\n",
        "    except PermissionError:\n",
        "        error_message = f\"Error: Permission denied for file '{filename}'.\"\n",
        "        print(error_message)\n",
        "        logging.error(error_message)\n",
        "    except Exception as e:\n",
        "        error_message = f\"An unexpected error occurred: {e}\"\n",
        "        print(error_message)\n",
        "        logging.error(error_message)\n",
        "\n",
        "# Example usage\n",
        "filename = \"example.txt\"\n",
        "read_file(filename)\n"
      ],
      "metadata": {
        "colab": {
          "base_uri": "https://localhost:8080/"
        },
        "id": "UsZcX3BC0mM6",
        "outputId": "8b7fcee0-1b4c-46ed-9baa-dd28974a2dee"
      },
      "execution_count": null,
      "outputs": [
        {
          "output_type": "stream",
          "name": "stderr",
          "text": [
            "ERROR:root:Error: The file 'example.txt' does not exist.\n"
          ]
        },
        {
          "output_type": "stream",
          "name": "stdout",
          "text": [
            "Error: The file 'example.txt' does not exist.\n"
          ]
        }
      ]
    }
  ]
}