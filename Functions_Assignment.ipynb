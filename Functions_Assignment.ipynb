{
  "nbformat": 4,
  "nbformat_minor": 0,
  "metadata": {
    "colab": {
      "provenance": []
    },
    "kernelspec": {
      "name": "python3",
      "display_name": "Python 3"
    },
    "language_info": {
      "name": "python"
    }
  },
  "cells": [
    {
      "cell_type": "code",
      "execution_count": 1,
      "metadata": {
        "colab": {
          "base_uri": "https://localhost:8080/"
        },
        "id": "tJp6OWcYmlGZ",
        "outputId": "10c3ec6f-8b6b-46d6-963b-e1da848ca7da"
      },
      "outputs": [
        {
          "output_type": "stream",
          "name": "stdout",
          "text": [
            "12\n"
          ]
        }
      ],
      "source": [
        "# 1. Sum of all even numbers in a list\n",
        "def sum_of_even_numbers(numbers):\n",
        "    total = 0\n",
        "    for num in numbers:\n",
        "        if num % 2 == 0:\n",
        "            total += num\n",
        "    return total\n",
        "\n",
        "# Example\n",
        "nums = [1, 2, 3, 4, 5, 6]\n",
        "print(sum_of_even_numbers(nums))\n"
      ]
    },
    {
      "cell_type": "code",
      "source": [
        "\n",
        "# 2. Reverse a string\n",
        "def reverse_string(string):\n",
        "    reversed_str = \"\"\n",
        "    for char in string:\n",
        "        reversed_str = char + reversed_str\n",
        "    return reversed_str\n",
        "\n",
        "# Example\n",
        "text = \"PhysicsWallah\"\n",
        "print(reverse_string(text))"
      ],
      "metadata": {
        "colab": {
          "base_uri": "https://localhost:8080/"
        },
        "id": "vqLIEpSzm1Mg",
        "outputId": "f8766c4d-ccc9-4828-f3df-3351c3b3baa9"
      },
      "execution_count": 5,
      "outputs": [
        {
          "output_type": "stream",
          "name": "stdout",
          "text": [
            "hallaWscisyhP\n"
          ]
        }
      ]
    },
    {
      "cell_type": "code",
      "source": [
        "#3. Squares of each number in a list\n",
        "def square_numbers(numbers):\n",
        "    squared_list = []\n",
        "    for num in numbers:\n",
        "        squared_list.append(num ** 2)\n",
        "    return squared_list\n",
        "\n",
        "# Example\n",
        "nums = [1, 2, 3, 4]\n",
        "print(square_numbers(nums))\n"
      ],
      "metadata": {
        "colab": {
          "base_uri": "https://localhost:8080/"
        },
        "id": "pe4Cw24Ym_jO",
        "outputId": "93f60067-7047-4527-f95a-94c68d0f192e"
      },
      "execution_count": 4,
      "outputs": [
        {
          "output_type": "stream",
          "name": "stdout",
          "text": [
            "[1, 4, 9, 16]\n"
          ]
        }
      ]
    },
    {
      "cell_type": "code",
      "source": [
        "#4. Check if a number is prime (1 to 200)\n",
        "def is_prime(num):\n",
        "    if num <= 1:\n",
        "        return False\n",
        "    for i in range(2, int(num**0.5) + 1):\n",
        "        if num % i == 0:\n",
        "            return False\n",
        "    return True\n",
        "\n",
        "# Example\n",
        "primes = [n for n in range(1, 201) if is_prime(n)]\n",
        "print(primes)"
      ],
      "metadata": {
        "colab": {
          "base_uri": "https://localhost:8080/"
        },
        "id": "5TMM7VF8nFa3",
        "outputId": "9155fcfc-6116-49b2-ce00-b49eca077711"
      },
      "execution_count": 6,
      "outputs": [
        {
          "output_type": "stream",
          "name": "stdout",
          "text": [
            "[2, 3, 5, 7, 11, 13, 17, 19, 23, 29, 31, 37, 41, 43, 47, 53, 59, 61, 67, 71, 73, 79, 83, 89, 97, 101, 103, 107, 109, 113, 127, 131, 137, 139, 149, 151, 157, 163, 167, 173, 179, 181, 191, 193, 197, 199]\n"
          ]
        }
      ]
    },
    {
      "cell_type": "code",
      "source": [
        "#5. Iterator class for Fibonacci sequence\n",
        "class FibonacciIterator:\n",
        "    def __init__(self, terms):\n",
        "        self.terms = terms\n",
        "        self.current, self.next = 0, 1\n",
        "        self.index = 0\n",
        "\n",
        "    def __iter__(self):\n",
        "        return self\n",
        "\n",
        "    def __next__(self):\n",
        "        if self.index >= self.terms:\n",
        "            raise StopIteration\n",
        "        value = self.current\n",
        "        self.current, self.next = self.next, self.current + self.next\n",
        "        self.index += 1\n",
        "        return value\n",
        "\n",
        "# Example\n",
        "fib = FibonacciIterator(10)\n",
        "for num in fib:\n",
        "    print(num, end=\" \")\n"
      ],
      "metadata": {
        "colab": {
          "base_uri": "https://localhost:8080/"
        },
        "id": "3TwwAIyRnOcm",
        "outputId": "ad1f1aca-38c0-4dc9-a6ae-ab7ff501b4a5"
      },
      "execution_count": 7,
      "outputs": [
        {
          "output_type": "stream",
          "name": "stdout",
          "text": [
            "0 1 1 2 3 5 8 13 21 34 "
          ]
        }
      ]
    },
    {
      "cell_type": "code",
      "source": [
        "#6. Generator for powers of 2\n",
        "def powers_of_two(max_exponent):\n",
        "    for exponent in range(max_exponent + 1):\n",
        "        yield 2 ** exponent\n",
        "\n",
        "# Example\n",
        "for power in powers_of_two(5):\n",
        "    print(power, end=\" \")"
      ],
      "metadata": {
        "colab": {
          "base_uri": "https://localhost:8080/"
        },
        "id": "T6nNEebqnSmT",
        "outputId": "f602dc3e-5445-4a6a-92a3-135eee64988e"
      },
      "execution_count": 8,
      "outputs": [
        {
          "output_type": "stream",
          "name": "stdout",
          "text": [
            "1 2 4 8 16 32 "
          ]
        }
      ]
    },
    {
      "cell_type": "code",
      "source": [
        "#7. File reader generator\n",
        "def file_line_reader(filename):\n",
        "    try:\n",
        "        with open(filename, 'r') as file:\n",
        "            for line in file:\n",
        "                yield line.strip()\n",
        "    except FileNotFoundError:\n",
        "        print(\"File not found!\")"
      ],
      "metadata": {
        "id": "CwyXVKU5nWK6"
      },
      "execution_count": 9,
      "outputs": []
    },
    {
      "cell_type": "code",
      "source": [
        "#8. Sort a list of tuples by the second element\n",
        "tuples_list = [(1, 3), (4, 1), (2, 5)]\n",
        "sorted_list = sorted(tuples_list, key=lambda x: x[1])\n",
        "print(sorted_list)\n"
      ],
      "metadata": {
        "colab": {
          "base_uri": "https://localhost:8080/"
        },
        "id": "FeJiMh85nYm7",
        "outputId": "69f7259a-96af-4ac1-b617-f36b549c7f37"
      },
      "execution_count": 10,
      "outputs": [
        {
          "output_type": "stream",
          "name": "stdout",
          "text": [
            "[(4, 1), (1, 3), (2, 5)]\n"
          ]
        }
      ]
    },
    {
      "cell_type": "code",
      "source": [
        "#9. Convert Celsius to Fahrenheit using map()\n",
        "def celsius_to_fahrenheit(celsius_list):\n",
        "    return list(map(lambda c: (c * 9/5) + 32, celsius_list))\n",
        "\n",
        "# Example\n",
        "celsius = [0, 20, 30]\n",
        "print(celsius_to_fahrenheit(celsius))"
      ],
      "metadata": {
        "colab": {
          "base_uri": "https://localhost:8080/"
        },
        "id": "4zUaS8NqnaRF",
        "outputId": "f4f3a339-a034-432b-9fb2-ba302af6e0a1"
      },
      "execution_count": 11,
      "outputs": [
        {
          "output_type": "stream",
          "name": "stdout",
          "text": [
            "[32.0, 68.0, 86.0]\n"
          ]
        }
      ]
    },
    {
      "cell_type": "code",
      "source": [
        "#10. Remove vowels using filter()\n",
        "def remove_vowels(string):\n",
        "    vowels = \"aeiouAEIOU\"\n",
        "    return ''.join(filter(lambda char: char not in vowels, string))\n",
        "\n",
        "# Example\n",
        "text = \"We all love Python\"\n",
        "print(remove_vowels(text))"
      ],
      "metadata": {
        "colab": {
          "base_uri": "https://localhost:8080/"
        },
        "id": "Em0mmC4UncAS",
        "outputId": "87185d44-1889-4556-cfc2-b55f8b187610"
      },
      "execution_count": 14,
      "outputs": [
        {
          "output_type": "stream",
          "name": "stdout",
          "text": [
            "W ll lv Pythn\n"
          ]
        }
      ]
    },
    {
      "cell_type": "code",
      "source": [
        "#question 11\n",
        "# List of orders: Each order has (order_number, price_per_item, quantity)\n",
        "orders = [\n",
        "    (1, 15.0, 5),  # Order 1: Price per item is 15.0, quantity is 5\n",
        "    (2, 20.0, 3),  # Order 2: Price per item is 20.0, quantity is 3\n",
        "    (3, 8.0, 10),  # Order 3: Price per item is 8.0, quantity is 10\n",
        "    (4, 50.0, 1)   # Order 4: Price per item is 50.0, quantity is 1\n",
        "]\n",
        "\n",
        "# Function to calculate the total for each order\n",
        "def calculate_order_totals(orders):\n",
        "    # Create an empty list to store the results\n",
        "    result = []\n",
        "\n",
        "    # Go through each order in the list\n",
        "    for order in orders:\n",
        "        order_number = order[0]  # Get the order number\n",
        "        price_per_item = order[1]  # Get the price per item\n",
        "        quantity = order[2]  # Get the quantity of items\n",
        "\n",
        "        # Calculate the total price for the order\n",
        "        total_price = price_per_item * quantity\n",
        "\n",
        "        # If the total price is less than 100, add 10\n",
        "        if total_price < 100:\n",
        "            total_price += 10\n",
        "\n",
        "        # Add the result as a tuple (order_number, total_price) to the result list\n",
        "        result.append((order_number, total_price))\n",
        "\n",
        "    # Return the final result\n",
        "    return result\n",
        "\n",
        "# Call the function and store the results\n",
        "final_totals = calculate_order_totals(orders)\n",
        "\n",
        "# Print the results\n",
        "print(final_totals)"
      ],
      "metadata": {
        "colab": {
          "base_uri": "https://localhost:8080/"
        },
        "id": "E-WIBo-lndb9",
        "outputId": "b5e61d13-ff14-4e7e-8ba7-f205abc64ef7"
      },
      "execution_count": 15,
      "outputs": [
        {
          "output_type": "stream",
          "name": "stdout",
          "text": [
            "[(1, 85.0), (2, 70.0), (3, 90.0), (4, 60.0)]\n"
          ]
        }
      ]
    },
    {
      "cell_type": "code",
      "source": [
        "#question 12\n",
        "# List of numbers\n",
        "numbers = [1, 2, 3, 4, 5]\n",
        "\n",
        "# Use map and lambda to calculate squares\n",
        "squares = list(map(lambda x: x**2, numbers))\n",
        "\n",
        "# Print the result\n",
        "print(\"Original list:\", numbers)\n",
        "print(\"Squares:\", squares)"
      ],
      "metadata": {
        "colab": {
          "base_uri": "https://localhost:8080/"
        },
        "id": "ogA8hJMGoCkk",
        "outputId": "57ba2a17-8504-4ed3-f9ea-6da5b4a40871"
      },
      "execution_count": 16,
      "outputs": [
        {
          "output_type": "stream",
          "name": "stdout",
          "text": [
            "Original list: [1, 2, 3, 4, 5]\n",
            "Squares: [1, 4, 9, 16, 25]\n"
          ]
        }
      ]
    },
    {
      "cell_type": "code",
      "source": [],
      "metadata": {
        "id": "vtjlKHELoSSh"
      },
      "execution_count": null,
      "outputs": []
    }
  ]
}