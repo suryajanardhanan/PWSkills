{
  "cells": [
    {
      "cell_type": "code",
      "execution_count": null,
      "id": "0edffd81",
      "metadata": {
        "id": "0edffd81"
      },
      "outputs": [],
      "source": [
        "name = \"Surya Janardhanan\"\n",
        "print(name)"
      ]
    },
    {
      "cell_type": "code",
      "execution_count": null,
      "id": "c3034bd0",
      "metadata": {
        "id": "c3034bd0"
      },
      "outputs": [],
      "source": [
        "string = \"Hello World\"\n",
        "print(len(string))"
      ]
    },
    {
      "cell_type": "code",
      "execution_count": null,
      "id": "68d1e89a",
      "metadata": {
        "id": "68d1e89a"
      },
      "outputs": [],
      "source": [
        "string = \"Python Programming\"\n",
        "print(string[:3])"
      ]
    },
    {
      "cell_type": "code",
      "execution_count": null,
      "id": "8facd463",
      "metadata": {
        "id": "8facd463"
      },
      "outputs": [],
      "source": [
        "string = \"hello\"\n",
        "print(string.upper())"
      ]
    },
    {
      "cell_type": "code",
      "execution_count": null,
      "id": "f7b0b8dc",
      "metadata": {
        "id": "f7b0b8dc"
      },
      "outputs": [],
      "source": [
        "string = \"I like apple\"\n",
        "print(string.replace(\"apple\", \"orange\"))"
      ]
    },
    {
      "cell_type": "code",
      "execution_count": null,
      "id": "e88b49d3",
      "metadata": {
        "id": "e88b49d3"
      },
      "outputs": [],
      "source": [
        "numbers = [1, 2, 3, 4, 5]\n",
        "print(numbers)"
      ]
    },
    {
      "cell_type": "code",
      "execution_count": null,
      "id": "105dca84",
      "metadata": {
        "id": "105dca84"
      },
      "outputs": [],
      "source": [
        "numbers = [1, 2, 3, 4]\n",
        "numbers.append(10)\n",
        "print(numbers)"
      ]
    },
    {
      "cell_type": "code",
      "execution_count": null,
      "id": "cec013cf",
      "metadata": {
        "id": "cec013cf"
      },
      "outputs": [],
      "source": [
        "numbers = [1, 2, 3, 4, 5]\n",
        "numbers.remove(3)\n",
        "print(numbers)"
      ]
    },
    {
      "cell_type": "code",
      "execution_count": null,
      "id": "37bee53b",
      "metadata": {
        "id": "37bee53b"
      },
      "outputs": [],
      "source": [
        "letters = [\"a\", \"b\", \"c\", \"d\"]\n",
        "print(letters[1])"
      ]
    },
    {
      "cell_type": "code",
      "execution_count": null,
      "id": "bfd85f14",
      "metadata": {
        "id": "bfd85f14"
      },
      "outputs": [],
      "source": [
        "numbers = [10, 20, 30, 40, 50]\n",
        "numbers.reverse()\n",
        "print(numbers)"
      ]
    },
    {
      "cell_type": "code",
      "execution_count": null,
      "id": "4ce628b1",
      "metadata": {
        "id": "4ce628b1"
      },
      "outputs": [],
      "source": [
        "tup = (10, 20, 30)\n",
        "print(tup)"
      ]
    },
    {
      "cell_type": "code",
      "execution_count": null,
      "id": "e248586b",
      "metadata": {
        "id": "e248586b"
      },
      "outputs": [],
      "source": [
        "tup = (\"apple\", \"banana\", \"cherry\")\n",
        "print(tup[0])"
      ]
    },
    {
      "cell_type": "code",
      "execution_count": null,
      "id": "fb54abd9",
      "metadata": {
        "id": "fb54abd9"
      },
      "outputs": [],
      "source": [
        "tup = (1, 2, 3, 2, 4, 2)\n",
        "print(tup.count(2))"
      ]
    },
    {
      "cell_type": "code",
      "execution_count": null,
      "id": "24bd0ad2",
      "metadata": {
        "id": "24bd0ad2"
      },
      "outputs": [],
      "source": [
        "tup = (\"dog\", \"cat\", \"rabbit\")\n",
        "print(tup.index(\"cat\"))"
      ]
    },
    {
      "cell_type": "code",
      "execution_count": null,
      "id": "fc1d3c11",
      "metadata": {
        "id": "fc1d3c11"
      },
      "outputs": [],
      "source": [
        "tup = (\"apple\", \"orange\", \"banana\")\n",
        "print(\"banana\" in tup)"
      ]
    },
    {
      "cell_type": "code",
      "execution_count": null,
      "id": "5e6bb7ef",
      "metadata": {
        "id": "5e6bb7ef"
      },
      "outputs": [],
      "source": [
        "s = {1, 2, 3, 4, 5}\n",
        "print(s)"
      ]
    },
    {
      "cell_type": "code",
      "execution_count": null,
      "id": "d70aee6c",
      "metadata": {
        "id": "d70aee6c"
      },
      "outputs": [],
      "source": [
        "s = {1, 2, 3, 4}\n",
        "s.add(6)\n",
        "print(s)"
      ]
    },
    {
      "cell_type": "code",
      "execution_count": null,
      "id": "147bccbe",
      "metadata": {
        "id": "147bccbe"
      },
      "outputs": [],
      "source": [
        "tup = (10, 20, 30)\n",
        "print(tup)"
      ]
    },
    {
      "cell_type": "code",
      "execution_count": null,
      "id": "1a5c343b",
      "metadata": {
        "id": "1a5c343b"
      },
      "outputs": [],
      "source": [
        "tup = (\"apple\", \"banana\", \"cherry\")\n",
        "print(tup[0])"
      ]
    },
    {
      "cell_type": "code",
      "execution_count": null,
      "id": "69d40e0d",
      "metadata": {
        "id": "69d40e0d"
      },
      "outputs": [],
      "source": [
        "tup = (1, 2, 3, 2, 4, 2)\n",
        "print(tup.count(2))"
      ]
    },
    {
      "cell_type": "code",
      "execution_count": null,
      "id": "86246f3e",
      "metadata": {
        "id": "86246f3e"
      },
      "outputs": [],
      "source": [
        "tup = (\"dog\", \"cat\", \"rabbit\")\n",
        "print(tup.index(\"cat\"))"
      ]
    },
    {
      "cell_type": "code",
      "execution_count": null,
      "id": "e5b25405",
      "metadata": {
        "id": "e5b25405"
      },
      "outputs": [],
      "source": [
        "tup = (\"apple\", \"orange\", \"banana\")\n",
        "print(\"banana\" in tup)"
      ]
    },
    {
      "cell_type": "code",
      "execution_count": null,
      "id": "a9fa7d0e",
      "metadata": {
        "id": "a9fa7d0e"
      },
      "outputs": [],
      "source": [
        "s = {1, 2, 3, 4, 5}\n",
        "print(s)"
      ]
    },
    {
      "cell_type": "code",
      "execution_count": null,
      "id": "ac03af4c",
      "metadata": {
        "id": "ac03af4c"
      },
      "outputs": [],
      "source": [
        "s = {1, 2, 3, 4}\n",
        "s.add(6)\n",
        "print(s)"
      ]
    }
  ],
  "metadata": {
    "colab": {
      "provenance": []
    }
  },
  "nbformat": 4,
  "nbformat_minor": 5
}